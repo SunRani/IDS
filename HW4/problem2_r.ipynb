{
  "nbformat": 4,
  "nbformat_minor": 0,
  "metadata": {
    "colab": {
      "provenance": []
    },
    "kernelspec": {
      "name": "ir",
      "display_name": "R"
    },
    "language_info": {
      "name": "R"
    }
  },
  "cells": [
    {
      "cell_type": "markdown",
      "source": [
        "# **Rani Son**"
      ],
      "metadata": {
        "id": "aPLRhuJ3XoUG"
      }
    },
    {
      "cell_type": "markdown",
      "source": [
        "## **Part 2 R**\n",
        "## **A Statistical Analaysis of Nutrition**"
      ],
      "metadata": {
        "id": "kJk-G8PeXqQP"
      }
    },
    {
      "cell_type": "markdown",
      "source": [
        "## **First, I imputed the dataset of food items that constaind their weight in grams, Satured fat and Cholesterol.**"
      ],
      "metadata": {
        "id": "r-xeh5iA7OqU"
      }
    },
    {
      "cell_type": "code",
      "execution_count": 24,
      "metadata": {
        "id": "UDmHU_opLIaV"
      },
      "outputs": [],
      "source": [
        "library(readr)\n",
        "DF <- read_csv(\"https://raw.githubusercontent.com/bforoura/IDS/main/HW4/nutrition_subset.csv\", show_col_types = FALSE)"
      ]
    },
    {
      "cell_type": "code",
      "source": [
        "summary(DF)"
      ],
      "metadata": {
        "colab": {
          "base_uri": "https://localhost:8080/",
          "height": 138
        },
        "id": "J85xR7VgYSmz",
        "outputId": "31c64d32-156b-4e54-f305-e400753432e7"
      },
      "execution_count": 25,
      "outputs": [
        {
          "output_type": "display_data",
          "data": {
            "text/plain": [
              "  food item         weight_in_grams  saturated_fat      cholesterol     \n",
              " Length:961         Min.   :   0.4   Min.   :  0.000   Min.   :   0.00  \n",
              " Class :character   1st Qu.:  32.0   1st Qu.:  0.000   1st Qu.:   0.00  \n",
              " Mode  :character   Median : 113.0   Median :  0.400   Median :   0.00  \n",
              "                    Mean   : 149.4   Mean   :  3.988   Mean   :  32.55  \n",
              "                    3rd Qu.: 218.0   3rd Qu.:  3.300   3rd Qu.:  20.00  \n",
              "                    Max.   :1542.0   Max.   :119.900   Max.   :2053.00  "
            ]
          },
          "metadata": {}
        }
      ]
    },
    {
      "cell_type": "code",
      "source": [
        "print(DF[order(DF$saturated_fat, decreasing = TRUE), ] )"
      ],
      "metadata": {
        "colab": {
          "base_uri": "https://localhost:8080/"
        },
        "id": "ho2u_ZdapCfh",
        "outputId": "3a9f5a63-a1d9-4009-a59e-fbed61a44d7d"
      },
      "execution_count": 26,
      "outputs": [
        {
          "output_type": "stream",
          "name": "stdout",
          "text": [
            "\u001b[90m# A tibble: 961 × 4\u001b[39m\n",
            "   `food item`                         weight_in_grams saturated_fat cholesterol\n",
            "   \u001b[3m\u001b[90m<chr>\u001b[39m\u001b[23m                                         \u001b[3m\u001b[90m<dbl>\u001b[39m\u001b[23m         \u001b[3m\u001b[90m<dbl>\u001b[39m\u001b[23m       \u001b[3m\u001b[90m<dbl>\u001b[39m\u001b[23m\n",
            "\u001b[90m 1\u001b[39m CHEESECAKE                    1 CA…            \u001b[4m1\u001b[24m110         120.         \u001b[4m2\u001b[24m053\n",
            "\u001b[90m 2\u001b[39m ICE CREAM; VANLLA; RICH 16% FT1/2 …            \u001b[4m1\u001b[24m188         118.          703\n",
            "\u001b[90m 3\u001b[39m YELLOWCAKE W/ CHOCFRSTNG;COMML1 CA…            \u001b[4m1\u001b[24m108          92           609\n",
            "\u001b[90m 4\u001b[39m CREME PIE                     1 PIE             910          90.1          46\n",
            "\u001b[90m 5\u001b[39m LARD                          1 CUP             205          80.4         195\n",
            "\u001b[90m 6\u001b[39m ICE CREAM; VANLLA; REGULR 11% 1/2 …            \u001b[4m1\u001b[24m064          71.3         476\n",
            "\u001b[90m 7\u001b[39m CARROT CAKE;CREMCHESE FRST;REC1 CA…            \u001b[4m1\u001b[24m536          66          \u001b[4m1\u001b[24m183\n",
            "\u001b[90m 8\u001b[39m BUTTER; SALTED                1/2 …             113          57.1         247\n",
            "\u001b[90m 9\u001b[39m BUTTER; UNSALTED              1/2 …             113          57.1         247\n",
            "\u001b[90m10\u001b[39m DEVIL'S FOOD CAKE;CHOCFRST;FMX1 CA…            \u001b[4m1\u001b[24m107          55.6         598\n",
            "\u001b[90m# ℹ 951 more rows\u001b[39m\n"
          ]
        }
      ]
    },
    {
      "cell_type": "markdown",
      "source": [
        "## **The Five Food Items with the highest amount of Saturated fat are, Cheesecake, Vanillia Ice Cream, Yellowcake, Cremepie and Lard.**"
      ],
      "metadata": {
        "id": "AGsYA9lLq-vl"
      }
    },
    {
      "cell_type": "markdown",
      "source": [
        "## **Comparing food items base on their size can be problematic as you could be comparing a tbsp of butter to an entire cheesecake, which is not helpful.**"
      ],
      "metadata": {
        "id": "yvrBe_8f69tw"
      }
    },
    {
      "cell_type": "code",
      "source": [
        "DF$saturated_fat_per_gram <- DF$saturated_fat / DF$weight_in_grams"
      ],
      "metadata": {
        "id": "QZ653d4UreSd"
      },
      "execution_count": 27,
      "outputs": []
    },
    {
      "cell_type": "code",
      "source": [
        "print(DF[order(DF$saturated_fat_per_gram, decreasing = TRUE), ] )"
      ],
      "metadata": {
        "colab": {
          "base_uri": "https://localhost:8080/"
        },
        "id": "sLOYUjqPr2zI",
        "outputId": "4f9d78af-0c9f-4e4e-ade6-63178f9bf293"
      },
      "execution_count": 28,
      "outputs": [
        {
          "output_type": "stream",
          "name": "stdout",
          "text": [
            "\u001b[90m# A tibble: 961 × 5\u001b[39m\n",
            "   `food item`  weight_in_grams saturated_fat cholesterol saturated_fat_per_gram\n",
            "   \u001b[3m\u001b[90m<chr>\u001b[39m\u001b[23m                  \u001b[3m\u001b[90m<dbl>\u001b[39m\u001b[23m         \u001b[3m\u001b[90m<dbl>\u001b[39m\u001b[23m       \u001b[3m\u001b[90m<dbl>\u001b[39m\u001b[23m                  \u001b[3m\u001b[90m<dbl>\u001b[39m\u001b[23m\n",
            "\u001b[90m 1\u001b[39m BUTTER; SAL…            14             7.1          31                  0.507\n",
            "\u001b[90m 2\u001b[39m BUTTER; UNS…            14             7.1          31                  0.507\n",
            "\u001b[90m 3\u001b[39m BUTTER; SAL…           113            57.1         247                  0.505\n",
            "\u001b[90m 4\u001b[39m BUTTER; UNS…           113            57.1         247                  0.505\n",
            "\u001b[90m 5\u001b[39m BUTTER; SAL…             5             2.5          11                  0.5  \n",
            "\u001b[90m 6\u001b[39m BUTTER; UNS…             5             2.5          11                  0.5  \n",
            "\u001b[90m 7\u001b[39m LARD       …            13             5.1          12                  0.392\n",
            "\u001b[90m 8\u001b[39m LARD       …           205            80.4         195                  0.392\n",
            "\u001b[90m 9\u001b[39m IMITATION C…             2             0.7           0                  0.35 \n",
            "\u001b[90m10\u001b[39m CHOCOLATE; …            28.4           9             0                  0.317\n",
            "\u001b[90m# ℹ 951 more rows\u001b[39m\n"
          ]
        }
      ]
    },
    {
      "cell_type": "markdown",
      "source": [
        "## **The new top five foods ordered by Satured fat per gram are Butter Salted 1 TBSP, Butter Unsalted 1 TBSP, Butter Salted 1/2 Cup, Butter Unsalted 1/2 Cup and Butter Salted 1 Pat. The food with the most Saturated Fat Per Gram is Butter Salted 1 TBSP.**"
      ],
      "metadata": {
        "id": "LS9ArXobsACp"
      }
    },
    {
      "cell_type": "code",
      "source": [
        "DF$saturated_fat_per_gram <- scale(x = DF$saturated_fat_per_gram)"
      ],
      "metadata": {
        "id": "rPyLDIsBwAXv"
      },
      "execution_count": 29,
      "outputs": []
    },
    {
      "cell_type": "code",
      "source": [
        "three_sigma_rule <- (DF$saturated_fat_per_gram < -3 |\n",
        "                     DF$saturated_fat_per_gram > 3 )"
      ],
      "metadata": {
        "id": "7BiEFRRi0TTw"
      },
      "execution_count": 30,
      "outputs": []
    },
    {
      "cell_type": "code",
      "source": [
        "cat (\"There are\", sum(three_sigma_rule), \"outliers \\n\\n\")"
      ],
      "metadata": {
        "colab": {
          "base_uri": "https://localhost:8080/"
        },
        "id": "Eag6h7ml0g9j",
        "outputId": "0c952a27-7b84-495d-e12f-41e3656894bf"
      },
      "execution_count": 31,
      "outputs": [
        {
          "output_type": "stream",
          "name": "stdout",
          "text": [
            "There are 15 outliers \n",
            "\n"
          ]
        }
      ]
    },
    {
      "cell_type": "code",
      "source": [
        "cat(\"The scaled age values that are outliers: \\n\\n\")\n",
        "DF$saturated_fat_per_gram[which(three_sigma_rule)]"
      ],
      "metadata": {
        "colab": {
          "base_uri": "https://localhost:8080/",
          "height": 86
        },
        "id": "jqb5APFE0kLL",
        "outputId": "3f654d47-a39d-424e-8ea8-f34560a1bc91"
      },
      "execution_count": 32,
      "outputs": [
        {
          "output_type": "stream",
          "name": "stdout",
          "text": [
            "The scaled age values that are outliers: \n",
            "\n"
          ]
        },
        {
          "output_type": "display_data",
          "data": {
            "text/html": [
              "<style>\n",
              ".list-inline {list-style: none; margin:0; padding: 0}\n",
              ".list-inline>li {display: inline-block}\n",
              ".list-inline>li:not(:last-child)::after {content: \"\\00b7\"; padding: 0 .5ex}\n",
              "</style>\n",
              "<ol class=list-inline><li>4.23846914186069</li><li>3.93663696749015</li><li>4.20207816592171</li><li>3.94083741524481</li><li>7.0790551253279</li><li>7.0790551253279</li><li>5.36857985204816</li><li>3.27652044727709</li><li>5.37028209729208</li><li>3.22204859947182</li><li>7.10677489432831</li><li>7.10677489432831</li><li>6.99876338063706</li><li>6.99876338063706</li><li>4.73052159312083</li></ol>\n"
            ],
            "text/markdown": "1. 4.23846914186069\n2. 3.93663696749015\n3. 4.20207816592171\n4. 3.94083741524481\n5. 7.0790551253279\n6. 7.0790551253279\n7. 5.36857985204816\n8. 3.27652044727709\n9. 5.37028209729208\n10. 3.22204859947182\n11. 7.10677489432831\n12. 7.10677489432831\n13. 6.99876338063706\n14. 6.99876338063706\n15. 4.73052159312083\n\n\n",
            "text/latex": "\\begin{enumerate*}\n\\item 4.23846914186069\n\\item 3.93663696749015\n\\item 4.20207816592171\n\\item 3.94083741524481\n\\item 7.0790551253279\n\\item 7.0790551253279\n\\item 5.36857985204816\n\\item 3.27652044727709\n\\item 5.37028209729208\n\\item 3.22204859947182\n\\item 7.10677489432831\n\\item 7.10677489432831\n\\item 6.99876338063706\n\\item 6.99876338063706\n\\item 4.73052159312083\n\\end{enumerate*}\n",
            "text/plain": [
              " [1] 4.238469 3.936637 4.202078 3.940837 7.079055 7.079055 5.368580 3.276520\n",
              " [9] 5.370282 3.222049 7.106775 7.106775 6.998763 6.998763 4.730522"
            ]
          },
          "metadata": {}
        }
      ]
    },
    {
      "cell_type": "code",
      "source": [
        "par(mfrow=c(1, 2))\n",
        "\n",
        "d1 <- density(DF$saturated_fat_per_gram)\n",
        "\n",
        "plot(d1, main=\"Kernel Density of Scaled Saturated Fat Per Gram\")\n",
        "\n",
        "polygon(d1, col=\"orange\", border=\"blue\")\n",
        ""
      ],
      "metadata": {
        "colab": {
          "base_uri": "https://localhost:8080/",
          "height": 437
        },
        "id": "Elli2klF2KO3",
        "outputId": "9b8f0b19-ea9a-47d7-ab4b-11923bb4f1e5"
      },
      "execution_count": 34,
      "outputs": [
        {
          "output_type": "display_data",
          "data": {
            "text/plain": [
              "Plot with title “Kernel Density of Scaled Saturated Fat Per Gram”"
            ],
            "image/png": "[encoded data removed]"
          },
          "metadata": {
            "image/png": {
              "width": 420,
              "height": 420
            }
          }
        }
      ]
    },
    {
      "cell_type": "code",
      "source": [
        "cat(\"No. missing values in weight = \", sum(is.na(DF$weight_in_grams)), \"\\n\\n\")\n",
        "cat(\"No. missing values in saturated fat = \", sum(is.na(DF$saturated_fat)), \"\\n\\n\")\n",
        "cat(\"No. missing values in cholesterol = \", sum(is.na(DF$cholesterol)), \"\\n\\n\")"
      ],
      "metadata": {
        "colab": {
          "base_uri": "https://localhost:8080/"
        },
        "id": "eD-eV9uR4rVF",
        "outputId": "518d5ea2-2dcd-42b6-b063-eee089dedba1"
      },
      "execution_count": 35,
      "outputs": [
        {
          "output_type": "stream",
          "name": "stdout",
          "text": [
            "No. missing values in weight =  0 \n",
            "\n",
            "No. missing values in saturated fat =  0 \n",
            "\n",
            "No. missing values in cholesterol =  0 \n",
            "\n"
          ]
        }
      ]
    },
    {
      "cell_type": "markdown",
      "source": [
        "## **There does not appear to be any missing values so no imputation is needed.**"
      ],
      "metadata": {
        "id": "KVQS5H4g5GP8"
      }
    },
    {
      "cell_type": "code",
      "source": [
        "DF$weight_in_grams <- scale(x = DF$weight_in_grams)\n",
        "DF$saturated_fat <- scale(x = DF$saturated_fat)\n",
        "DF$cholesterol <- scale(x = DF$cholesterol)"
      ],
      "metadata": {
        "id": "iHyiVAtt5Tm0"
      },
      "execution_count": 37,
      "outputs": []
    },
    {
      "cell_type": "code",
      "source": [
        "three_sigma_rule <- (DF$weight_in_grams < -3 |\n",
        "                     DF$weight_in_grams > 3 )"
      ],
      "metadata": {
        "id": "pFTvlGaM5jo0"
      },
      "execution_count": 38,
      "outputs": []
    },
    {
      "cell_type": "code",
      "source": [
        "cat (\"There are\", sum(three_sigma_rule), \"weight outliers \\n\\n\")"
      ],
      "metadata": {
        "colab": {
          "base_uri": "https://localhost:8080/"
        },
        "id": "lXxUQaHE5qgZ",
        "outputId": "29b4bc70-34f8-4949-9d46-7cbba748b4c0"
      },
      "execution_count": 44,
      "outputs": [
        {
          "output_type": "stream",
          "name": "stdout",
          "text": [
            "There are 17 weight outliers \n",
            "\n"
          ]
        }
      ]
    },
    {
      "cell_type": "code",
      "source": [
        "three_sigma_rule <- (DF$saturated_fat < -3 |\n",
        "                     DF$saturated_fat > 3 )"
      ],
      "metadata": {
        "id": "9xsqcz185kZe"
      },
      "execution_count": 45,
      "outputs": []
    },
    {
      "cell_type": "code",
      "source": [
        "cat (\"There are\", sum(three_sigma_rule), \"saturated fat outliers \\n\\n\")"
      ],
      "metadata": {
        "colab": {
          "base_uri": "https://localhost:8080/"
        },
        "id": "vcw5dhh75rL7",
        "outputId": "1f38dc55-31c2-4a74-a88b-f7f79548eb1b"
      },
      "execution_count": 46,
      "outputs": [
        {
          "output_type": "stream",
          "name": "stdout",
          "text": [
            "There are 20 saturated fat outliers \n",
            "\n"
          ]
        }
      ]
    },
    {
      "cell_type": "code",
      "source": [
        "three_sigma_rule <- (DF$cholesterol < -3 |\n",
        "                     DF$cholesterol > 3 )"
      ],
      "metadata": {
        "id": "49InJHrD5lDE"
      },
      "execution_count": 47,
      "outputs": []
    },
    {
      "cell_type": "code",
      "source": [
        "cat (\"There are\", sum(three_sigma_rule), \"cholesterol outliers \\n\\n\")"
      ],
      "metadata": {
        "colab": {
          "base_uri": "https://localhost:8080/"
        },
        "id": "J8hYwsKE5r0t",
        "outputId": "80603603-cd33-4d45-a956-44cc13969b54"
      },
      "execution_count": 48,
      "outputs": [
        {
          "output_type": "stream",
          "name": "stdout",
          "text": [
            "There are 17 cholesterol outliers \n",
            "\n"
          ]
        }
      ]
    },
    {
      "cell_type": "markdown",
      "source": [
        "## **In summary, when sorting by just the saturated fat, the 5 food items with the highest fat were Cheesecake, Vanillia Ice Cream, Yellowcake, Cremepie and Lard.**"
      ],
      "metadata": {
        "id": "CVcxHmF16yui"
      }
    },
    {
      "cell_type": "markdown",
      "source": [
        "## **When comparing Satured fat per gram a new list was made and the new top five foods were, Butter Salted 1 TBSP, Butter Unsalted 1 TBSP, Butter Salted 1/2 Cup, Butter Unsalted 1/2 Cup and Butter Salted 1 Pat**"
      ],
      "metadata": {
        "id": "oTpTf8Jj8bhn"
      }
    },
    {
      "cell_type": "markdown",
      "source": [
        "## **After standardizing the Saturated Fat Per gram, I found that there were 15 outliers.**"
      ],
      "metadata": {
        "id": "fQTiGFV08sLn"
      }
    },
    {
      "cell_type": "markdown",
      "source": [
        "## **Then, I determined that were were no missing values in all three of the numeric values.**"
      ],
      "metadata": {
        "id": "YcW01T-m8zft"
      }
    },
    {
      "cell_type": "markdown",
      "source": [
        "## **Lastly, For weight in grams there were 17 outliers,for saturated fat, there were 20 outliers and for cholesterol there were 17 outliers.**"
      ],
      "metadata": {
        "id": "XWZdo4PK8-Fi"
      }
    }
  ]
}
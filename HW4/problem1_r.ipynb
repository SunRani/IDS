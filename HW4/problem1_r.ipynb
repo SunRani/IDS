{
  "nbformat": 4,
  "nbformat_minor": 0,
  "metadata": {
    "colab": {
      "provenance": []
    },
    "kernelspec": {
      "name": "ir",
      "display_name": "R"
    },
    "language_info": {
      "name": "R"
    }
  },
  "cells": [
    {
      "cell_type": "markdown",
      "source": [
        "# **Rani Son**"
      ],
      "metadata": {
        "id": "aPLRhuJ3XoUG"
      }
    },
    {
      "cell_type": "markdown",
      "source": [
        "## **Part 1 R**"
      ],
      "metadata": {
        "id": "kJk-G8PeXqQP"
      }
    },
    {
      "cell_type": "markdown",
      "source": [
        "## **An Statistical Analysis of Adults**"
      ],
      "metadata": {
        "id": "oC3AMm2DKNcd"
      }
    },
    {
      "cell_type": "code",
      "execution_count": null,
      "metadata": {
        "id": "UDmHU_opLIaV"
      },
      "outputs": [],
      "source": [
        "library(readr)\n",
        "DF <- read_csv(\"https://raw.githubusercontent.com/bforoura/IDS/main/HW4/adult_training.csv\", show_col_types = FALSE)"
      ]
    },
    {
      "cell_type": "code",
      "source": [
        "summary(DF)"
      ],
      "metadata": {
        "colab": {
          "base_uri": "https://localhost:8080/",
          "height": 381
        },
        "id": "J85xR7VgYSmz",
        "outputId": "44e344a9-fa44-41b8-9c66-933b77eda7d6"
      },
      "execution_count": null,
      "outputs": [
        {
          "output_type": "display_data",
          "data": {
            "text/plain": [
              "      age         workclass           education     marital-status    \n",
              " Min.   :17.00   Length:14797       Min.   : 1.00   Length:14797      \n",
              " 1st Qu.:28.00   Class :character   1st Qu.: 9.00   Class :character  \n",
              " Median :37.00   Mode  :character   Median :10.00   Mode  :character  \n",
              " Mean   :38.69                      Mean   :10.07                     \n",
              " 3rd Qu.:48.00                      3rd Qu.:12.00                     \n",
              " Max.   :90.00                      Max.   :16.00                     \n",
              "  occupation            sex             capital-gain    capital-loss    \n",
              " Length:14797       Length:14797       Min.   :    0   Min.   :   0.00  \n",
              " Class :character   Class :character   1st Qu.:    0   1st Qu.:   0.00  \n",
              " Mode  :character   Mode  :character   Median :    0   Median :   0.00  \n",
              "                                       Mean   : 1067   Mean   :  88.58  \n",
              "                                       3rd Qu.:    0   3rd Qu.:   0.00  \n",
              "                                       Max.   :99999   Max.   :4356.00  \n",
              "    income         \n",
              " Length:14797      \n",
              " Class :character  \n",
              " Mode  :character  \n",
              "                   \n",
              "                   \n",
              "                   "
            ]
          },
          "metadata": {}
        }
      ]
    },
    {
      "cell_type": "markdown",
      "source": [
        "## **The crosstabulation of Workclass and Sex**"
      ],
      "metadata": {
        "id": "vMy_uwmVKSUh"
      }
    },
    {
      "cell_type": "code",
      "source": [
        "r_crosstab <- table(DF$workclass, DF$sex)\n",
        "\n",
        "ftable(r_crosstab)"
      ],
      "metadata": {
        "colab": {
          "base_uri": "https://localhost:8080/",
          "height": 208
        },
        "id": "0TDxquBRaYOK",
        "outputId": "92515f54-739f-4645-8a60-e0b804688387"
      },
      "execution_count": null,
      "outputs": [
        {
          "output_type": "display_data",
          "data": {
            "text/plain": [
              "                  Female Male\n",
              "                             \n",
              "?                    377  452\n",
              "Federal-gov          149  305\n",
              "Local-gov            377  592\n",
              "Never-worked           1    4\n",
              "Private             3574 6707\n",
              "Self-emp-inc          54  444\n",
              "Self-emp-not-inc     178  992\n",
              "State-gov            201  385\n",
              "Without-pay            1    4"
            ]
          },
          "metadata": {}
        }
      ]
    },
    {
      "cell_type": "code",
      "source": [],
      "metadata": {
        "id": "fhNxpNGhd0Ki"
      },
      "execution_count": null,
      "outputs": []
    },
    {
      "cell_type": "code",
      "source": [
        "colors <- c(\"red\", \"orange\", \"green\", \"blue\", \"yellow\", \"navy\", \"brown\", \"black\", \"pink\")\n",
        "\n",
        "barplot(r_crosstab, col = colors, beside = TRUE)\n",
        "legend(\"topright\", legend = c(\"?\", \"Federal-gov\", \"Local-gov\", \"Never-worked\", \"Private\", \"Self-emp-inc\", \"Self-emp-not-inc\", \"State-gov\", \"Without-pay\"), fill = colors)"
      ],
      "metadata": {
        "colab": {
          "base_uri": "https://localhost:8080/",
          "height": 437
        },
        "id": "nr3s1WvCa4rd",
        "outputId": "3096c47c-1b76-4a0b-fab6-e6670b50b976"
      },
      "execution_count": null,
      "outputs": [
        {
          "output_type": "display_data",
          "data": {
            "text/plain": [
              "plot without title"
            ],
            "image/png": "[encoded data removed]"
          },
          "metadata": {
            "image/png": {
              "width": 420,
              "height": 420
            }
          }
        }
      ]
    },
    {
      "cell_type": "markdown",
      "source": [
        "## **The Crosstabulation of sex and marital status**"
      ],
      "metadata": {
        "id": "z4oPOUHkKUxb"
      }
    },
    {
      "cell_type": "code",
      "source": [
        "r_crosstab2 <- table(DF$sex, DF$`marital-status`)\n",
        "\n",
        "ftable(r_crosstab2)"
      ],
      "metadata": {
        "colab": {
          "base_uri": "https://localhost:8080/",
          "height": 86
        },
        "id": "wjvuZR0Ybqit",
        "outputId": "7796d9b0-47b6-4580-e461-e3920fbd33c7"
      },
      "execution_count": null,
      "outputs": [
        {
          "output_type": "display_data",
          "data": {
            "text/plain": [
              "        Divorced Married-AF-spouse Married-civ-spouse Married-spouse-absent Never-married Separated Widowed\n",
              "                                                                                                           \n",
              "Female      1219                 7                761                    95          2160       290     380\n",
              "Male         795                 4               6010                   104          2717       182      73"
            ]
          },
          "metadata": {}
        }
      ]
    },
    {
      "cell_type": "code",
      "source": [
        "colors <- c(\"red\", \"blue\")\n",
        "\n",
        "barplot(r_crosstab2, col = colors, beside = TRUE)\n",
        "legend(\"topright\", legend = c(\"Female\", \"Male\"), fill = colors)"
      ],
      "metadata": {
        "colab": {
          "base_uri": "https://localhost:8080/",
          "height": 437
        },
        "id": "wLjbOrNob2HZ",
        "outputId": "3efc0b03-25e1-4c85-863b-00173d9ce1f4"
      },
      "execution_count": null,
      "outputs": [
        {
          "output_type": "display_data",
          "data": {
            "text/plain": [
              "plot without title"
            ],
            "image/png": "[encoded data removed]"
          },
          "metadata": {
            "image/png": {
              "width": 420,
              "height": 420
            }
          }
        }
      ]
    },
    {
      "cell_type": "markdown",
      "source": [
        "## **Finding the data in which age is over 40**"
      ],
      "metadata": {
        "id": "_4WFFtSIKY3Z"
      }
    },
    {
      "cell_type": "code",
      "source": [
        "DF_AdultsOver40 <- DF[DF$age > 40,]\n",
        "summary(DF_AdultsOver40)"
      ],
      "metadata": {
        "colab": {
          "base_uri": "https://localhost:8080/",
          "height": 381
        },
        "id": "T81yi7ThcjG2",
        "outputId": "f4d845c7-d845-4fdd-90c8-839858abed21"
      },
      "execution_count": null,
      "outputs": [
        {
          "output_type": "display_data",
          "data": {
            "text/plain": [
              "      age         workclass           education     marital-status    \n",
              " Min.   :41.00   Length:6144        Min.   : 1.00   Length:6144       \n",
              " 1st Qu.:45.00   Class :character   1st Qu.: 9.00   Class :character  \n",
              " Median :50.00   Mode  :character   Median :10.00   Mode  :character  \n",
              " Mean   :52.08                      Mean   :10.15                     \n",
              " 3rd Qu.:57.00                      3rd Qu.:13.00                     \n",
              " Max.   :90.00                      Max.   :16.00                     \n",
              "  occupation            sex             capital-gain    capital-loss   \n",
              " Length:6144        Length:6144        Min.   :    0   Min.   :   0.0  \n",
              " Class :character   Class :character   1st Qu.:    0   1st Qu.:   0.0  \n",
              " Mode  :character   Mode  :character   Median :    0   Median :   0.0  \n",
              "                                       Mean   : 1598   Mean   : 115.3  \n",
              "                                       3rd Qu.:    0   3rd Qu.:   0.0  \n",
              "                                       Max.   :99999   Max.   :4356.0  \n",
              "    income         \n",
              " Length:6144       \n",
              " Class :character  \n",
              " Mode  :character  \n",
              "                   \n",
              "                   \n",
              "                   "
            ]
          },
          "metadata": {}
        }
      ]
    },
    {
      "cell_type": "markdown",
      "source": [
        "## **The Crosstabulation of adults over 40 of sex and marital status**"
      ],
      "metadata": {
        "id": "r6EHPEDbKbsC"
      }
    },
    {
      "cell_type": "code",
      "source": [
        "r_crosstab3 <- table(DF_AdultsOver40$sex, DF_AdultsOver40$`marital-status`)\n",
        "ftable(r_crosstab3)"
      ],
      "metadata": {
        "colab": {
          "base_uri": "https://localhost:8080/",
          "height": 86
        },
        "id": "0HdyYG2-c8Zr",
        "outputId": "328cd438-fcc3-4f64-da3e-900684ad3ee0"
      },
      "execution_count": null,
      "outputs": [
        {
          "output_type": "display_data",
          "data": {
            "text/plain": [
              "        Divorced Married-civ-spouse Married-spouse-absent Never-married Separated Widowed\n",
              "                                                                                         \n",
              "Female       720                305                    38           256       133     354\n",
              "Male         448               3383                    47           315        74      71"
            ]
          },
          "metadata": {}
        }
      ]
    },
    {
      "cell_type": "code",
      "source": [
        "DF$scaled_education <- scale(x = DF$education)"
      ],
      "metadata": {
        "id": "6Ra3H34cgL6e"
      },
      "execution_count": null,
      "outputs": []
    },
    {
      "cell_type": "code",
      "source": [
        "three_sigma_rule <- (DF$scaled_education < -3 |\n",
        "                     DF$scaled_education > 3 )\n",
        "cat (\"There are\", sum(three_sigma_rule), \"outliers \\n\\n\")"
      ],
      "metadata": {
        "colab": {
          "base_uri": "https://localhost:8080/"
        },
        "id": "ana4XG_WfjO-",
        "outputId": "109a6b70-a44c-456f-b263-65fa50a05f01"
      },
      "execution_count": null,
      "outputs": [
        {
          "output_type": "stream",
          "name": "stdout",
          "text": [
            "There are 113 outliers \n",
            "\n"
          ]
        }
      ]
    },
    {
      "cell_type": "code",
      "source": [
        "DF$scaled_age <- scale(x = DF$age)"
      ],
      "metadata": {
        "id": "uzJnHVRdgcO8"
      },
      "execution_count": null,
      "outputs": []
    },
    {
      "cell_type": "code",
      "source": [
        "three_sigma_rule <- (DF$scaled_age < -3 |\n",
        "                     DF$scaled_age > 3 )\n",
        "cat (\"There are\", sum(three_sigma_rule), \"outliers \\n\\n\")"
      ],
      "metadata": {
        "colab": {
          "base_uri": "https://localhost:8080/"
        },
        "id": "q1LUG9aNggyD",
        "outputId": "5776a78b-0c52-44f0-a6e1-0285857e16ce"
      },
      "execution_count": null,
      "outputs": [
        {
          "output_type": "stream",
          "name": "stdout",
          "text": [
            "There are 60 outliers \n",
            "\n"
          ]
        }
      ]
    },
    {
      "cell_type": "code",
      "source": [
        "DF_AdultsOver80 <- DF[DF$age > 80,]\n",
        "summary(DF_AdultsOver80)"
      ],
      "metadata": {
        "colab": {
          "base_uri": "https://localhost:8080/",
          "height": 381
        },
        "id": "4OI7x7zBi5hc",
        "outputId": "ab329f74-f76b-433c-a10e-daeb0421afc8"
      },
      "execution_count": null,
      "outputs": [
        {
          "output_type": "display_data",
          "data": {
            "text/plain": [
              "      age         workclass           education     marital-status    \n",
              " Min.   :81.00   Length:50          Min.   : 2.00   Length:50         \n",
              " 1st Qu.:82.25   Class :character   1st Qu.: 6.75   Class :character  \n",
              " Median :87.50   Mode  :character   Median : 9.00   Mode  :character  \n",
              " Mean   :86.42                      Mean   : 8.98                     \n",
              " 3rd Qu.:90.00                      3rd Qu.:12.75                     \n",
              " Max.   :90.00                      Max.   :15.00                     \n",
              "  occupation            sex             capital-gain      capital-loss   \n",
              " Length:50          Length:50          Min.   :    0.0   Min.   :   0.0  \n",
              " Class :character   Class :character   1st Qu.:    0.0   1st Qu.:   0.0  \n",
              " Mode  :character   Mode  :character   Median :    0.0   Median :   0.0  \n",
              "                                       Mean   :  612.3   Mean   : 178.8  \n",
              "                                       3rd Qu.:    0.0   3rd Qu.:   0.0  \n",
              "                                       Max.   :20051.0   Max.   :4356.0  \n",
              "    income          scaled_education.V1    scaled_age.V1   \n",
              " Length:50          Min.   :-3.1054180   Min.   :3.093278  \n",
              " Class :character   1st Qu.:-1.2772974   1st Qu.:3.184660  \n",
              " Mode  :character   Median :-0.4113455   Median :3.568463  \n",
              "                    Mean   :-0.4190429   Mean   :3.489510  \n",
              "                    3rd Qu.: 1.0319076   3rd Qu.:3.751227  \n",
              "                    Max.   : 1.8978595   Max.   :3.751227  "
            ]
          },
          "metadata": {}
        }
      ]
    },
    {
      "cell_type": "code",
      "source": [
        "hist(DF_AdultsOver80$age)"
      ],
      "metadata": {
        "colab": {
          "base_uri": "https://localhost:8080/",
          "height": 437
        },
        "id": "Tiq8kA1djeLc",
        "outputId": "c48f3966-10e3-4566-94d0-ad7cd86470dd"
      },
      "execution_count": null,
      "outputs": [
        {
          "output_type": "display_data",
          "data": {
            "text/plain": [
              "Plot with title “Histogram of DF_AdultsOver80$age”"
            ],
            "image/png": "[encoded data removed]"
          },
          "metadata": {
            "image/png": {
              "width": 420,
              "height": 420
            }
          }
        }
      ]
    },
    {
      "cell_type": "markdown",
      "source": [
        "## **In summary, first, I did a cross tabulation of work class and sex. The cross tab shows the totals in relation to the rows and columns, which lets us see the relationship between the values.**"
      ],
      "metadata": {
        "id": "IBiScidZKez4"
      }
    },
    {
      "cell_type": "markdown",
      "source": [
        "## **Again, I created another cross tabulation, but this time for sec and marital status. The same analysis can be done for this table.**"
      ],
      "metadata": {
        "id": "QFd9lfu5Kgg9"
      }
    },
    {
      "cell_type": "markdown",
      "source": [
        "## **After creating a new dataframe of Adults Over 40, more than half of the values from the original dataframe were gone.**"
      ],
      "metadata": {
        "id": "MmTyGwRfKjQM"
      }
    },
    {
      "cell_type": "markdown",
      "source": [
        "## **Creating a crosstabulation table of sex and marital status once again, except that it is for adults over 40. I think that since there is less data than beofre the relations might be be so accurate.**"
      ],
      "metadata": {
        "id": "z3Xqqd0OKk3s"
      }
    },
    {
      "cell_type": "markdown",
      "source": [
        "## **There appeared to be 113 outliers in the education column.**"
      ],
      "metadata": {
        "id": "aA16TpGJKn_W"
      }
    },
    {
      "cell_type": "markdown",
      "source": [
        "## **After standardizing age, I found that there were 60 outliers. The most extreme being 3.751354**"
      ],
      "metadata": {
        "id": "8v2OiFx2Kp6A"
      }
    },
    {
      "cell_type": "markdown",
      "source": [
        "## **Lastly, after finding the records in which age was greater than 80 I saw that a majority of the data values lie closer to 90 than 80.**"
      ],
      "metadata": {
        "id": "_SZd9pAGKrh2"
      }
    }
  ]
}
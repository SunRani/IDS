{
  "nbformat": 4,
  "nbformat_minor": 0,
  "metadata": {
    "colab": {
      "provenance": []
    },
    "kernelspec": {
      "name": "python3",
      "display_name": "Python 3"
    },
    "language_info": {
      "name": "python"
    }
  },
  "cells": [
    {
      "cell_type": "markdown",
      "source": [
        "## **Rani Son**"
      ],
      "metadata": {
        "id": "ME8rxl4zu0Lx"
      }
    },
    {
      "cell_type": "markdown",
      "source": [
        "# **Problem 1 Python**"
      ],
      "metadata": {
        "id": "gPYP6awpY5bp"
      }
    },
    {
      "cell_type": "code",
      "source": [
        "import pandas as pd\n",
        "import numpy as np"
      ],
      "metadata": {
        "id": "RcZXAchIitRy"
      },
      "execution_count": null,
      "outputs": []
    },
    {
      "cell_type": "code",
      "source": [
        "adultDF= pd.read_csv(\"https://raw.githubusercontent.com/bforoura/IDS/main/HW4/adult_training.csv\")\n"
      ],
      "metadata": {
        "id": "C43gj3CIjFpZ"
      },
      "execution_count": null,
      "outputs": []
    },
    {
      "cell_type": "markdown",
      "source": [
        "## **First, I will import the libraries and import the dataset contatining numeric and categoric information about adults to perform analysis with decision trees.**"
      ],
      "metadata": {
        "id": "WT0-Pd3wjGbk"
      }
    },
    {
      "cell_type": "markdown",
      "source": [
        "## **Here I am just getting a view of the dataset I obtained.**"
      ],
      "metadata": {
        "id": "yr89oDxorvs6"
      }
    },
    {
      "cell_type": "code",
      "source": [
        "adultDF"
      ],
      "metadata": {
        "colab": {
          "base_uri": "https://localhost:8080/",
          "height": 424
        },
        "id": "NwQCbWK2jO3_",
        "outputId": "a41fca74-d3d5-42ec-9bf9-eb230d1422db"
      },
      "execution_count": null,
      "outputs": [
        {
          "output_type": "execute_result",
          "data": {
            "text/plain": [
              "       age         workclass  education         marital-status  \\\n",
              "0       50  Self-emp-not-inc         13     Married-civ-spouse   \n",
              "1       38           Private          9               Divorced   \n",
              "2       49           Private          5  Married-spouse-absent   \n",
              "3       52  Self-emp-not-inc          9     Married-civ-spouse   \n",
              "4       31           Private         14          Never-married   \n",
              "...    ...               ...        ...                    ...   \n",
              "14792   43  Self-emp-not-inc         10     Married-civ-spouse   \n",
              "14793   32           Private          6     Married-civ-spouse   \n",
              "14794   32           Private         14          Never-married   \n",
              "14795   58           Private          9                Widowed   \n",
              "14796   22           Private          9          Never-married   \n",
              "\n",
              "              occupation     sex  capital-gain  capital-loss income  \n",
              "0        Exec-managerial    Male             0             0  <=50K  \n",
              "1      Handlers-cleaners    Male             0             0  <=50K  \n",
              "2          Other-service  Female             0             0  <=50K  \n",
              "3        Exec-managerial    Male             0             0   >50K  \n",
              "4         Prof-specialty  Female         14084             0   >50K  \n",
              "...                  ...     ...           ...           ...    ...  \n",
              "14792       Craft-repair    Male             0             0  <=50K  \n",
              "14793  Handlers-cleaners    Male             0             0  <=50K  \n",
              "14794       Tech-support    Male             0             0  <=50K  \n",
              "14795       Adm-clerical  Female             0             0  <=50K  \n",
              "14796       Adm-clerical    Male             0             0  <=50K  \n",
              "\n",
              "[14797 rows x 9 columns]"
            ],
            "text/html": [
              "\n",
              "  <div id=\"df-3b861a8f-5cc6-489f-98af-657cd11adfaa\" class=\"colab-df-container\">\n",
              "    <div>\n",
              "<style scoped>\n",
              "    .dataframe tbody tr th:only-of-type {\n",
              "        vertical-align: middle;\n",
              "    }\n",
              "\n",
              "    .dataframe tbody tr th {\n",
              "        vertical-align: top;\n",
              "    }\n",
              "\n",
              "    .dataframe thead th {\n",
              "        text-align: right;\n",
              "    }\n",
              "</style>\n",
              "<table border=\"1\" class=\"dataframe\">\n",
              "  <thead>\n",
              "    <tr style=\"text-align: right;\">\n",
              "      <th></th>\n",
              "      <th>age</th>\n",
              "      <th>workclass</th>\n",
              "      <th>education</th>\n",
              "      <th>marital-status</th>\n",
              "      <th>occupation</th>\n",
              "      <th>sex</th>\n",
              "      <th>capital-gain</th>\n",
              "      <th>capital-loss</th>\n",
              "      <th>income</th>\n",
              "    </tr>\n",
              "  </thead>\n",
              "  <tbody>\n",
              "    <tr>\n",
              "      <th>0</th>\n",
              "      <td>50</td>\n",
              "      <td>Self-emp-not-inc</td>\n",
              "      <td>13</td>\n",
              "      <td>Married-civ-spouse</td>\n",
              "      <td>Exec-managerial</td>\n",
              "      <td>Male</td>\n",
              "      <td>0</td>\n",
              "      <td>0</td>\n",
              "      <td>&lt;=50K</td>\n",
              "    </tr>\n",
              "    <tr>\n",
              "      <th>1</th>\n",
              "      <td>38</td>\n",
              "      <td>Private</td>\n",
              "      <td>9</td>\n",
              "      <td>Divorced</td>\n",
              "      <td>Handlers-cleaners</td>\n",
              "      <td>Male</td>\n",
              "      <td>0</td>\n",
              "      <td>0</td>\n",
              "      <td>&lt;=50K</td>\n",
              "    </tr>\n",
              "    <tr>\n",
              "      <th>2</th>\n",
              "      <td>49</td>\n",
              "      <td>Private</td>\n",
              "      <td>5</td>\n",
              "      <td>Married-spouse-absent</td>\n",
              "      <td>Other-service</td>\n",
              "      <td>Female</td>\n",
              "      <td>0</td>\n",
              "      <td>0</td>\n",
              "      <td>&lt;=50K</td>\n",
              "    </tr>\n",
              "    <tr>\n",
              "      <th>3</th>\n",
              "      <td>52</td>\n",
              "      <td>Self-emp-not-inc</td>\n",
              "      <td>9</td>\n",
              "      <td>Married-civ-spouse</td>\n",
              "      <td>Exec-managerial</td>\n",
              "      <td>Male</td>\n",
              "      <td>0</td>\n",
              "      <td>0</td>\n",
              "      <td>&gt;50K</td>\n",
              "    </tr>\n",
              "    <tr>\n",
              "      <th>4</th>\n",
              "      <td>31</td>\n",
              "      <td>Private</td>\n",
              "      <td>14</td>\n",
              "      <td>Never-married</td>\n",
              "      <td>Prof-specialty</td>\n",
              "      <td>Female</td>\n",
              "      <td>14084</td>\n",
              "      <td>0</td>\n",
              "      <td>&gt;50K</td>\n",
              "    </tr>\n",
              "    <tr>\n",
              "      <th>...</th>\n",
              "      <td>...</td>\n",
              "      <td>...</td>\n",
              "      <td>...</td>\n",
              "      <td>...</td>\n",
              "      <td>...</td>\n",
              "      <td>...</td>\n",
              "      <td>...</td>\n",
              "      <td>...</td>\n",
              "      <td>...</td>\n",
              "    </tr>\n",
              "    <tr>\n",
              "      <th>14792</th>\n",
              "      <td>43</td>\n",
              "      <td>Self-emp-not-inc</td>\n",
              "      <td>10</td>\n",
              "      <td>Married-civ-spouse</td>\n",
              "      <td>Craft-repair</td>\n",
              "      <td>Male</td>\n",
              "      <td>0</td>\n",
              "      <td>0</td>\n",
              "      <td>&lt;=50K</td>\n",
              "    </tr>\n",
              "    <tr>\n",
              "      <th>14793</th>\n",
              "      <td>32</td>\n",
              "      <td>Private</td>\n",
              "      <td>6</td>\n",
              "      <td>Married-civ-spouse</td>\n",
              "      <td>Handlers-cleaners</td>\n",
              "      <td>Male</td>\n",
              "      <td>0</td>\n",
              "      <td>0</td>\n",
              "      <td>&lt;=50K</td>\n",
              "    </tr>\n",
              "    <tr>\n",
              "      <th>14794</th>\n",
              "      <td>32</td>\n",
              "      <td>Private</td>\n",
              "      <td>14</td>\n",
              "      <td>Never-married</td>\n",
              "      <td>Tech-support</td>\n",
              "      <td>Male</td>\n",
              "      <td>0</td>\n",
              "      <td>0</td>\n",
              "      <td>&lt;=50K</td>\n",
              "    </tr>\n",
              "    <tr>\n",
              "      <th>14795</th>\n",
              "      <td>58</td>\n",
              "      <td>Private</td>\n",
              "      <td>9</td>\n",
              "      <td>Widowed</td>\n",
              "      <td>Adm-clerical</td>\n",
              "      <td>Female</td>\n",
              "      <td>0</td>\n",
              "      <td>0</td>\n",
              "      <td>&lt;=50K</td>\n",
              "    </tr>\n",
              "    <tr>\n",
              "      <th>14796</th>\n",
              "      <td>22</td>\n",
              "      <td>Private</td>\n",
              "      <td>9</td>\n",
              "      <td>Never-married</td>\n",
              "      <td>Adm-clerical</td>\n",
              "      <td>Male</td>\n",
              "      <td>0</td>\n",
              "      <td>0</td>\n",
              "      <td>&lt;=50K</td>\n",
              "    </tr>\n",
              "  </tbody>\n",
              "</table>\n",
              "<p>14797 rows × 9 columns</p>\n",
              "</div>\n",
              "    <div class=\"colab-df-buttons\">\n",
              "\n",
              "  <div class=\"colab-df-container\">\n",
              "    <button class=\"colab-df-convert\" onclick=\"convertToInteractive('df-3b861a8f-5cc6-489f-98af-657cd11adfaa')\"\n",
              "            title=\"Convert this dataframe to an interactive table.\"\n",
              "            style=\"display:none;\">\n",
              "\n",
              "  <svg xmlns=\"http://www.w3.org/2000/svg\" height=\"24px\" viewBox=\"0 -960 960 960\">\n",
              "    <path d=\"M120-120v-720h720v720H120Zm60-500h600v-160H180v160Zm220 220h160v-160H400v160Zm0 220h160v-160H400v160ZM180-400h160v-160H180v160Zm440 0h160v-160H620v160ZM180-180h160v-160H180v160Zm440 0h160v-160H620v160Z\"/>\n",
              "  </svg>\n",
              "    </button>\n",
              "\n",
              "  <style>\n",
              "    .colab-df-container {\n",
              "      display:flex;\n",
              "      gap: 12px;\n",
              "    }\n",
              "\n",
              "    .colab-df-convert {\n",
              "      background-color: #E8F0FE;\n",
              "      border: none;\n",
              "      border-radius: 50%;\n",
              "      cursor: pointer;\n",
              "      display: none;\n",
              "      fill: #1967D2;\n",
              "      height: 32px;\n",
              "      padding: 0 0 0 0;\n",
              "      width: 32px;\n",
              "    }\n",
              "\n",
              "    .colab-df-convert:hover {\n",
              "      background-color: #E2EBFA;\n",
              "      box-shadow: 0px 1px 2px rgba(60, 64, 67, 0.3), 0px 1px 3px 1px rgba(60, 64, 67, 0.15);\n",
              "      fill: #174EA6;\n",
              "    }\n",
              "\n",
              "    .colab-df-buttons div {\n",
              "      margin-bottom: 4px;\n",
              "    }\n",
              "\n",
              "    [theme=dark] .colab-df-convert {\n",
              "      background-color: #3B4455;\n",
              "      fill: #D2E3FC;\n",
              "    }\n",
              "\n",
              "    [theme=dark] .colab-df-convert:hover {\n",
              "      background-color: #434B5C;\n",
              "      box-shadow: 0px 1px 3px 1px rgba(0, 0, 0, 0.15);\n",
              "      filter: drop-shadow(0px 1px 2px rgba(0, 0, 0, 0.3));\n",
              "      fill: #FFFFFF;\n",
              "    }\n",
              "  </style>\n",
              "\n",
              "    <script>\n",
              "      const buttonEl =\n",
              "        document.querySelector('#df-3b861a8f-5cc6-489f-98af-657cd11adfaa button.colab-df-convert');\n",
              "      buttonEl.style.display =\n",
              "        google.colab.kernel.accessAllowed ? 'block' : 'none';\n",
              "\n",
              "      async function convertToInteractive(key) {\n",
              "        const element = document.querySelector('#df-3b861a8f-5cc6-489f-98af-657cd11adfaa');\n",
              "        const dataTable =\n",
              "          await google.colab.kernel.invokeFunction('convertToInteractive',\n",
              "                                                    [key], {});\n",
              "        if (!dataTable) return;\n",
              "\n",
              "        const docLinkHtml = 'Like what you see? Visit the ' +\n",
              "          '<a target=\"_blank\" href=https://colab.research.google.com/notebooks/data_table.ipynb>data table notebook</a>'\n",
              "          + ' to learn more about interactive tables.';\n",
              "        element.innerHTML = '';\n",
              "        dataTable['output_type'] = 'display_data';\n",
              "        await google.colab.output.renderOutput(dataTable, element);\n",
              "        const docLink = document.createElement('div');\n",
              "        docLink.innerHTML = docLinkHtml;\n",
              "        element.appendChild(docLink);\n",
              "      }\n",
              "    </script>\n",
              "  </div>\n",
              "\n",
              "\n",
              "<div id=\"df-a3f9b0dc-ef9d-42d3-addd-871bc85cbb33\">\n",
              "  <button class=\"colab-df-quickchart\" onclick=\"quickchart('df-a3f9b0dc-ef9d-42d3-addd-871bc85cbb33')\"\n",
              "            title=\"Suggest charts\"\n",
              "            style=\"display:none;\">\n",
              "\n",
              "<svg xmlns=\"http://www.w3.org/2000/svg\" height=\"24px\"viewBox=\"0 0 24 24\"\n",
              "     width=\"24px\">\n",
              "    <g>\n",
              "        <path d=\"M19 3H5c-1.1 0-2 .9-2 2v14c0 1.1.9 2 2 2h14c1.1 0 2-.9 2-2V5c0-1.1-.9-2-2-2zM9 17H7v-7h2v7zm4 0h-2V7h2v10zm4 0h-2v-4h2v4z\"/>\n",
              "    </g>\n",
              "</svg>\n",
              "  </button>\n",
              "\n",
              "<style>\n",
              "  .colab-df-quickchart {\n",
              "      --bg-color: #E8F0FE;\n",
              "      --fill-color: #1967D2;\n",
              "      --hover-bg-color: #E2EBFA;\n",
              "      --hover-fill-color: #174EA6;\n",
              "      --disabled-fill-color: #AAA;\n",
              "      --disabled-bg-color: #DDD;\n",
              "  }\n",
              "\n",
              "  [theme=dark] .colab-df-quickchart {\n",
              "      --bg-color: #3B4455;\n",
              "      --fill-color: #D2E3FC;\n",
              "      --hover-bg-color: #434B5C;\n",
              "      --hover-fill-color: #FFFFFF;\n",
              "      --disabled-bg-color: #3B4455;\n",
              "      --disabled-fill-color: #666;\n",
              "  }\n",
              "\n",
              "  .colab-df-quickchart {\n",
              "    background-color: var(--bg-color);\n",
              "    border: none;\n",
              "    border-radius: 50%;\n",
              "    cursor: pointer;\n",
              "    display: none;\n",
              "    fill: var(--fill-color);\n",
              "    height: 32px;\n",
              "    padding: 0;\n",
              "    width: 32px;\n",
              "  }\n",
              "\n",
              "  .colab-df-quickchart:hover {\n",
              "    background-color: var(--hover-bg-color);\n",
              "    box-shadow: 0 1px 2px rgba(60, 64, 67, 0.3), 0 1px 3px 1px rgba(60, 64, 67, 0.15);\n",
              "    fill: var(--button-hover-fill-color);\n",
              "  }\n",
              "\n",
              "  .colab-df-quickchart-complete:disabled,\n",
              "  .colab-df-quickchart-complete:disabled:hover {\n",
              "    background-color: var(--disabled-bg-color);\n",
              "    fill: var(--disabled-fill-color);\n",
              "    box-shadow: none;\n",
              "  }\n",
              "\n",
              "  .colab-df-spinner {\n",
              "    border: 2px solid var(--fill-color);\n",
              "    border-color: transparent;\n",
              "    border-bottom-color: var(--fill-color);\n",
              "    animation:\n",
              "      spin 1s steps(1) infinite;\n",
              "  }\n",
              "\n",
              "  @keyframes spin {\n",
              "    0% {\n",
              "      border-color: transparent;\n",
              "      border-bottom-color: var(--fill-color);\n",
              "      border-left-color: var(--fill-color);\n",
              "    }\n",
              "    20% {\n",
              "      border-color: transparent;\n",
              "      border-left-color: var(--fill-color);\n",
              "      border-top-color: var(--fill-color);\n",
              "    }\n",
              "    30% {\n",
              "      border-color: transparent;\n",
              "      border-left-color: var(--fill-color);\n",
              "      border-top-color: var(--fill-color);\n",
              "      border-right-color: var(--fill-color);\n",
              "    }\n",
              "    40% {\n",
              "      border-color: transparent;\n",
              "      border-right-color: var(--fill-color);\n",
              "      border-top-color: var(--fill-color);\n",
              "    }\n",
              "    60% {\n",
              "      border-color: transparent;\n",
              "      border-right-color: var(--fill-color);\n",
              "    }\n",
              "    80% {\n",
              "      border-color: transparent;\n",
              "      border-right-color: var(--fill-color);\n",
              "      border-bottom-color: var(--fill-color);\n",
              "    }\n",
              "    90% {\n",
              "      border-color: transparent;\n",
              "      border-bottom-color: var(--fill-color);\n",
              "    }\n",
              "  }\n",
              "</style>\n",
              "\n",
              "  <script>\n",
              "    async function quickchart(key) {\n",
              "      const quickchartButtonEl =\n",
              "        document.querySelector('#' + key + ' button');\n",
              "      quickchartButtonEl.disabled = true;  // To prevent multiple clicks.\n",
              "      quickchartButtonEl.classList.add('colab-df-spinner');\n",
              "      try {\n",
              "        const charts = await google.colab.kernel.invokeFunction(\n",
              "            'suggestCharts', [key], {});\n",
              "      } catch (error) {\n",
              "        console.error('Error during call to suggestCharts:', error);\n",
              "      }\n",
              "      quickchartButtonEl.classList.remove('colab-df-spinner');\n",
              "      quickchartButtonEl.classList.add('colab-df-quickchart-complete');\n",
              "    }\n",
              "    (() => {\n",
              "      let quickchartButtonEl =\n",
              "        document.querySelector('#df-a3f9b0dc-ef9d-42d3-addd-871bc85cbb33 button');\n",
              "      quickchartButtonEl.style.display =\n",
              "        google.colab.kernel.accessAllowed ? 'block' : 'none';\n",
              "    })();\n",
              "  </script>\n",
              "</div>\n",
              "    </div>\n",
              "  </div>\n"
            ]
          },
          "metadata": {},
          "execution_count": 3
        }
      ]
    },
    {
      "cell_type": "markdown",
      "source": [
        "## **To help simply the process for classification I will have two predictors and 1 target. Those being *Maritial-Status, Captial-gains-losses, and income respectivly*.**\n",
        "\n",
        "## **Captial-gain-loss is a new predictor created to combine the captial-gain and captial-loss to further simplify.**"
      ],
      "metadata": {
        "id": "TMsZcDlrs4iD"
      }
    },
    {
      "cell_type": "code",
      "source": [
        "# The new predictor\n",
        "adultDF['capital-gains-losses'] = adultDF['capital-gain'] + abs(adultDF['capital-loss'])\n",
        "\n",
        "\n",
        "# A new dataframe for classification: marital-status, capitial-gains-losses, and income.\n",
        "new_adultDF = adultDF.filter(['marital-status','capital-gains-losses','income'], axis=1)\n",
        "\n",
        "new_adultDF.head(10)"
      ],
      "metadata": {
        "colab": {
          "base_uri": "https://localhost:8080/",
          "height": 363
        },
        "id": "3Fj7QVRRnsZn",
        "outputId": "bef07f92-c54c-4ef8-beee-72df48440c4e"
      },
      "execution_count": null,
      "outputs": [
        {
          "output_type": "execute_result",
          "data": {
            "text/plain": [
              "          marital-status  capital-gains-losses income\n",
              "0     Married-civ-spouse                     0  <=50K\n",
              "1               Divorced                     0  <=50K\n",
              "2  Married-spouse-absent                     0  <=50K\n",
              "3     Married-civ-spouse                     0   >50K\n",
              "4          Never-married                 14084   >50K\n",
              "5     Married-civ-spouse                     0   >50K\n",
              "6     Married-civ-spouse                     0  <=50K\n",
              "7     Married-civ-spouse                  2042  <=50K\n",
              "8     Married-civ-spouse                     0   >50K\n",
              "9               Divorced                     0  <=50K"
            ],
            "text/html": [
              "\n",
              "  <div id=\"df-1b5450e0-7c68-4b67-8503-2fe8238a4b9c\" class=\"colab-df-container\">\n",
              "    <div>\n",
              "<style scoped>\n",
              "    .dataframe tbody tr th:only-of-type {\n",
              "        vertical-align: middle;\n",
              "    }\n",
              "\n",
              "    .dataframe tbody tr th {\n",
              "        vertical-align: top;\n",
              "    }\n",
              "\n",
              "    .dataframe thead th {\n",
              "        text-align: right;\n",
              "    }\n",
              "</style>\n",
              "<table border=\"1\" class=\"dataframe\">\n",
              "  <thead>\n",
              "    <tr style=\"text-align: right;\">\n",
              "      <th></th>\n",
              "      <th>marital-status</th>\n",
              "      <th>capital-gains-losses</th>\n",
              "      <th>income</th>\n",
              "    </tr>\n",
              "  </thead>\n",
              "  <tbody>\n",
              "    <tr>\n",
              "      <th>0</th>\n",
              "      <td>Married-civ-spouse</td>\n",
              "      <td>0</td>\n",
              "      <td>&lt;=50K</td>\n",
              "    </tr>\n",
              "    <tr>\n",
              "      <th>1</th>\n",
              "      <td>Divorced</td>\n",
              "      <td>0</td>\n",
              "      <td>&lt;=50K</td>\n",
              "    </tr>\n",
              "    <tr>\n",
              "      <th>2</th>\n",
              "      <td>Married-spouse-absent</td>\n",
              "      <td>0</td>\n",
              "      <td>&lt;=50K</td>\n",
              "    </tr>\n",
              "    <tr>\n",
              "      <th>3</th>\n",
              "      <td>Married-civ-spouse</td>\n",
              "      <td>0</td>\n",
              "      <td>&gt;50K</td>\n",
              "    </tr>\n",
              "    <tr>\n",
              "      <th>4</th>\n",
              "      <td>Never-married</td>\n",
              "      <td>14084</td>\n",
              "      <td>&gt;50K</td>\n",
              "    </tr>\n",
              "    <tr>\n",
              "      <th>5</th>\n",
              "      <td>Married-civ-spouse</td>\n",
              "      <td>0</td>\n",
              "      <td>&gt;50K</td>\n",
              "    </tr>\n",
              "    <tr>\n",
              "      <th>6</th>\n",
              "      <td>Married-civ-spouse</td>\n",
              "      <td>0</td>\n",
              "      <td>&lt;=50K</td>\n",
              "    </tr>\n",
              "    <tr>\n",
              "      <th>7</th>\n",
              "      <td>Married-civ-spouse</td>\n",
              "      <td>2042</td>\n",
              "      <td>&lt;=50K</td>\n",
              "    </tr>\n",
              "    <tr>\n",
              "      <th>8</th>\n",
              "      <td>Married-civ-spouse</td>\n",
              "      <td>0</td>\n",
              "      <td>&gt;50K</td>\n",
              "    </tr>\n",
              "    <tr>\n",
              "      <th>9</th>\n",
              "      <td>Divorced</td>\n",
              "      <td>0</td>\n",
              "      <td>&lt;=50K</td>\n",
              "    </tr>\n",
              "  </tbody>\n",
              "</table>\n",
              "</div>\n",
              "    <div class=\"colab-df-buttons\">\n",
              "\n",
              "  <div class=\"colab-df-container\">\n",
              "    <button class=\"colab-df-convert\" onclick=\"convertToInteractive('df-1b5450e0-7c68-4b67-8503-2fe8238a4b9c')\"\n",
              "            title=\"Convert this dataframe to an interactive table.\"\n",
              "            style=\"display:none;\">\n",
              "\n",
              "  <svg xmlns=\"http://www.w3.org/2000/svg\" height=\"24px\" viewBox=\"0 -960 960 960\">\n",
              "    <path d=\"M120-120v-720h720v720H120Zm60-500h600v-160H180v160Zm220 220h160v-160H400v160Zm0 220h160v-160H400v160ZM180-400h160v-160H180v160Zm440 0h160v-160H620v160ZM180-180h160v-160H180v160Zm440 0h160v-160H620v160Z\"/>\n",
              "  </svg>\n",
              "    </button>\n",
              "\n",
              "  <style>\n",
              "    .colab-df-container {\n",
              "      display:flex;\n",
              "      gap: 12px;\n",
              "    }\n",
              "\n",
              "    .colab-df-convert {\n",
              "      background-color: #E8F0FE;\n",
              "      border: none;\n",
              "      border-radius: 50%;\n",
              "      cursor: pointer;\n",
              "      display: none;\n",
              "      fill: #1967D2;\n",
              "      height: 32px;\n",
              "      padding: 0 0 0 0;\n",
              "      width: 32px;\n",
              "    }\n",
              "\n",
              "    .colab-df-convert:hover {\n",
              "      background-color: #E2EBFA;\n",
              "      box-shadow: 0px 1px 2px rgba(60, 64, 67, 0.3), 0px 1px 3px 1px rgba(60, 64, 67, 0.15);\n",
              "      fill: #174EA6;\n",
              "    }\n",
              "\n",
              "    .colab-df-buttons div {\n",
              "      margin-bottom: 4px;\n",
              "    }\n",
              "\n",
              "    [theme=dark] .colab-df-convert {\n",
              "      background-color: #3B4455;\n",
              "      fill: #D2E3FC;\n",
              "    }\n",
              "\n",
              "    [theme=dark] .colab-df-convert:hover {\n",
              "      background-color: #434B5C;\n",
              "      box-shadow: 0px 1px 3px 1px rgba(0, 0, 0, 0.15);\n",
              "      filter: drop-shadow(0px 1px 2px rgba(0, 0, 0, 0.3));\n",
              "      fill: #FFFFFF;\n",
              "    }\n",
              "  </style>\n",
              "\n",
              "    <script>\n",
              "      const buttonEl =\n",
              "        document.querySelector('#df-1b5450e0-7c68-4b67-8503-2fe8238a4b9c button.colab-df-convert');\n",
              "      buttonEl.style.display =\n",
              "        google.colab.kernel.accessAllowed ? 'block' : 'none';\n",
              "\n",
              "      async function convertToInteractive(key) {\n",
              "        const element = document.querySelector('#df-1b5450e0-7c68-4b67-8503-2fe8238a4b9c');\n",
              "        const dataTable =\n",
              "          await google.colab.kernel.invokeFunction('convertToInteractive',\n",
              "                                                    [key], {});\n",
              "        if (!dataTable) return;\n",
              "\n",
              "        const docLinkHtml = 'Like what you see? Visit the ' +\n",
              "          '<a target=\"_blank\" href=https://colab.research.google.com/notebooks/data_table.ipynb>data table notebook</a>'\n",
              "          + ' to learn more about interactive tables.';\n",
              "        element.innerHTML = '';\n",
              "        dataTable['output_type'] = 'display_data';\n",
              "        await google.colab.output.renderOutput(dataTable, element);\n",
              "        const docLink = document.createElement('div');\n",
              "        docLink.innerHTML = docLinkHtml;\n",
              "        element.appendChild(docLink);\n",
              "      }\n",
              "    </script>\n",
              "  </div>\n",
              "\n",
              "\n",
              "<div id=\"df-eb363928-8e4e-49f0-b26c-8a56fb577916\">\n",
              "  <button class=\"colab-df-quickchart\" onclick=\"quickchart('df-eb363928-8e4e-49f0-b26c-8a56fb577916')\"\n",
              "            title=\"Suggest charts\"\n",
              "            style=\"display:none;\">\n",
              "\n",
              "<svg xmlns=\"http://www.w3.org/2000/svg\" height=\"24px\"viewBox=\"0 0 24 24\"\n",
              "     width=\"24px\">\n",
              "    <g>\n",
              "        <path d=\"M19 3H5c-1.1 0-2 .9-2 2v14c0 1.1.9 2 2 2h14c1.1 0 2-.9 2-2V5c0-1.1-.9-2-2-2zM9 17H7v-7h2v7zm4 0h-2V7h2v10zm4 0h-2v-4h2v4z\"/>\n",
              "    </g>\n",
              "</svg>\n",
              "  </button>\n",
              "\n",
              "<style>\n",
              "  .colab-df-quickchart {\n",
              "      --bg-color: #E8F0FE;\n",
              "      --fill-color: #1967D2;\n",
              "      --hover-bg-color: #E2EBFA;\n",
              "      --hover-fill-color: #174EA6;\n",
              "      --disabled-fill-color: #AAA;\n",
              "      --disabled-bg-color: #DDD;\n",
              "  }\n",
              "\n",
              "  [theme=dark] .colab-df-quickchart {\n",
              "      --bg-color: #3B4455;\n",
              "      --fill-color: #D2E3FC;\n",
              "      --hover-bg-color: #434B5C;\n",
              "      --hover-fill-color: #FFFFFF;\n",
              "      --disabled-bg-color: #3B4455;\n",
              "      --disabled-fill-color: #666;\n",
              "  }\n",
              "\n",
              "  .colab-df-quickchart {\n",
              "    background-color: var(--bg-color);\n",
              "    border: none;\n",
              "    border-radius: 50%;\n",
              "    cursor: pointer;\n",
              "    display: none;\n",
              "    fill: var(--fill-color);\n",
              "    height: 32px;\n",
              "    padding: 0;\n",
              "    width: 32px;\n",
              "  }\n",
              "\n",
              "  .colab-df-quickchart:hover {\n",
              "    background-color: var(--hover-bg-color);\n",
              "    box-shadow: 0 1px 2px rgba(60, 64, 67, 0.3), 0 1px 3px 1px rgba(60, 64, 67, 0.15);\n",
              "    fill: var(--button-hover-fill-color);\n",
              "  }\n",
              "\n",
              "  .colab-df-quickchart-complete:disabled,\n",
              "  .colab-df-quickchart-complete:disabled:hover {\n",
              "    background-color: var(--disabled-bg-color);\n",
              "    fill: var(--disabled-fill-color);\n",
              "    box-shadow: none;\n",
              "  }\n",
              "\n",
              "  .colab-df-spinner {\n",
              "    border: 2px solid var(--fill-color);\n",
              "    border-color: transparent;\n",
              "    border-bottom-color: var(--fill-color);\n",
              "    animation:\n",
              "      spin 1s steps(1) infinite;\n",
              "  }\n",
              "\n",
              "  @keyframes spin {\n",
              "    0% {\n",
              "      border-color: transparent;\n",
              "      border-bottom-color: var(--fill-color);\n",
              "      border-left-color: var(--fill-color);\n",
              "    }\n",
              "    20% {\n",
              "      border-color: transparent;\n",
              "      border-left-color: var(--fill-color);\n",
              "      border-top-color: var(--fill-color);\n",
              "    }\n",
              "    30% {\n",
              "      border-color: transparent;\n",
              "      border-left-color: var(--fill-color);\n",
              "      border-top-color: var(--fill-color);\n",
              "      border-right-color: var(--fill-color);\n",
              "    }\n",
              "    40% {\n",
              "      border-color: transparent;\n",
              "      border-right-color: var(--fill-color);\n",
              "      border-top-color: var(--fill-color);\n",
              "    }\n",
              "    60% {\n",
              "      border-color: transparent;\n",
              "      border-right-color: var(--fill-color);\n",
              "    }\n",
              "    80% {\n",
              "      border-color: transparent;\n",
              "      border-right-color: var(--fill-color);\n",
              "      border-bottom-color: var(--fill-color);\n",
              "    }\n",
              "    90% {\n",
              "      border-color: transparent;\n",
              "      border-bottom-color: var(--fill-color);\n",
              "    }\n",
              "  }\n",
              "</style>\n",
              "\n",
              "  <script>\n",
              "    async function quickchart(key) {\n",
              "      const quickchartButtonEl =\n",
              "        document.querySelector('#' + key + ' button');\n",
              "      quickchartButtonEl.disabled = true;  // To prevent multiple clicks.\n",
              "      quickchartButtonEl.classList.add('colab-df-spinner');\n",
              "      try {\n",
              "        const charts = await google.colab.kernel.invokeFunction(\n",
              "            'suggestCharts', [key], {});\n",
              "      } catch (error) {\n",
              "        console.error('Error during call to suggestCharts:', error);\n",
              "      }\n",
              "      quickchartButtonEl.classList.remove('colab-df-spinner');\n",
              "      quickchartButtonEl.classList.add('colab-df-quickchart-complete');\n",
              "    }\n",
              "    (() => {\n",
              "      let quickchartButtonEl =\n",
              "        document.querySelector('#df-eb363928-8e4e-49f0-b26c-8a56fb577916 button');\n",
              "      quickchartButtonEl.style.display =\n",
              "        google.colab.kernel.accessAllowed ? 'block' : 'none';\n",
              "    })();\n",
              "  </script>\n",
              "</div>\n",
              "    </div>\n",
              "  </div>\n"
            ]
          },
          "metadata": {},
          "execution_count": 4
        }
      ]
    },
    {
      "cell_type": "markdown",
      "source": [
        "## **The seaborn library helps to visual data and particularly here I examine the distributions of the income below and equal to 50K and above 50K.**"
      ],
      "metadata": {
        "id": "WUuFyFfGwMMU"
      }
    },
    {
      "cell_type": "code",
      "source": [
        "import seaborn as sns\n",
        "import matplotlib.pyplot as plt\n",
        "\n",
        "sns.countplot(x='income', data=new_adultDF, palette = 'hls')\n",
        "plt.xlabel('Income')\n",
        "plt.ylabel('Counts')\n",
        "plt.show()"
      ],
      "metadata": {
        "id": "8PU9lfvgpV8s",
        "outputId": "be1513da-e465-470d-a824-4764de47c70c",
        "colab": {
          "base_uri": "https://localhost:8080/",
          "height": 449
        }
      },
      "execution_count": null,
      "outputs": [
        {
          "output_type": "display_data",
          "data": {
            "text/plain": [
              "<Figure size 640x480 with 1 Axes>"
            ],
            "image/png": "[encoded data removed]"
          },
          "metadata": {}
        }
      ]
    },
    {
      "cell_type": "markdown",
      "source": [
        "## **In order to feed the categoric data to the model I want to build I need to encode it so the model can undestand the data. This hepls to simply and transforms the data into nominal and numeric numbers for the model to understand.**"
      ],
      "metadata": {
        "id": "JWxmphbMxb1H"
      }
    },
    {
      "cell_type": "code",
      "source": [
        "# We now need to encode the categoric columns\n",
        "\n",
        "from sklearn import preprocessing\n",
        "le = preprocessing.LabelEncoder()\n",
        "\n",
        "# save the encoded dataframe here\n",
        "encoded_adultDF = pd.DataFrame()\n",
        "\n",
        "# Encode  only the categoric or boolean attributes (if any)\n",
        "for i in range(0, new_adultDF.shape[1]):\n",
        "    if new_adultDF.dtypes[i]=='object' or new_adultDF.dtypes[i]=='bool':\n",
        "        encoded_adultDF[new_adultDF.columns[i]] = le.fit_transform(new_adultDF[new_adultDF.columns[i]])\n",
        "    else:\n",
        "        encoded_adultDF[new_adultDF.columns[i]] = new_adultDF[new_adultDF.columns[i]]\n",
        "\n",
        "encoded_adultDF.head(10)"
      ],
      "metadata": {
        "colab": {
          "base_uri": "https://localhost:8080/",
          "height": 363
        },
        "id": "El6X3CyeKzGQ",
        "outputId": "ae71f53e-717a-4a14-8d0f-709f275e51a6"
      },
      "execution_count": null,
      "outputs": [
        {
          "output_type": "execute_result",
          "data": {
            "text/plain": [
              "   marital-status  capital-gains-losses  income\n",
              "0               2                     0       0\n",
              "1               0                     0       0\n",
              "2               3                     0       0\n",
              "3               2                     0       1\n",
              "4               4                 14084       1\n",
              "5               2                     0       1\n",
              "6               2                     0       0\n",
              "7               2                  2042       0\n",
              "8               2                     0       1\n",
              "9               0                     0       0"
            ],
            "text/html": [
              "\n",
              "  <div id=\"df-7126b223-e310-4990-bb97-93694b9e6b11\" class=\"colab-df-container\">\n",
              "    <div>\n",
              "<style scoped>\n",
              "    .dataframe tbody tr th:only-of-type {\n",
              "        vertical-align: middle;\n",
              "    }\n",
              "\n",
              "    .dataframe tbody tr th {\n",
              "        vertical-align: top;\n",
              "    }\n",
              "\n",
              "    .dataframe thead th {\n",
              "        text-align: right;\n",
              "    }\n",
              "</style>\n",
              "<table border=\"1\" class=\"dataframe\">\n",
              "  <thead>\n",
              "    <tr style=\"text-align: right;\">\n",
              "      <th></th>\n",
              "      <th>marital-status</th>\n",
              "      <th>capital-gains-losses</th>\n",
              "      <th>income</th>\n",
              "    </tr>\n",
              "  </thead>\n",
              "  <tbody>\n",
              "    <tr>\n",
              "      <th>0</th>\n",
              "      <td>2</td>\n",
              "      <td>0</td>\n",
              "      <td>0</td>\n",
              "    </tr>\n",
              "    <tr>\n",
              "      <th>1</th>\n",
              "      <td>0</td>\n",
              "      <td>0</td>\n",
              "      <td>0</td>\n",
              "    </tr>\n",
              "    <tr>\n",
              "      <th>2</th>\n",
              "      <td>3</td>\n",
              "      <td>0</td>\n",
              "      <td>0</td>\n",
              "    </tr>\n",
              "    <tr>\n",
              "      <th>3</th>\n",
              "      <td>2</td>\n",
              "      <td>0</td>\n",
              "      <td>1</td>\n",
              "    </tr>\n",
              "    <tr>\n",
              "      <th>4</th>\n",
              "      <td>4</td>\n",
              "      <td>14084</td>\n",
              "      <td>1</td>\n",
              "    </tr>\n",
              "    <tr>\n",
              "      <th>5</th>\n",
              "      <td>2</td>\n",
              "      <td>0</td>\n",
              "      <td>1</td>\n",
              "    </tr>\n",
              "    <tr>\n",
              "      <th>6</th>\n",
              "      <td>2</td>\n",
              "      <td>0</td>\n",
              "      <td>0</td>\n",
              "    </tr>\n",
              "    <tr>\n",
              "      <th>7</th>\n",
              "      <td>2</td>\n",
              "      <td>2042</td>\n",
              "      <td>0</td>\n",
              "    </tr>\n",
              "    <tr>\n",
              "      <th>8</th>\n",
              "      <td>2</td>\n",
              "      <td>0</td>\n",
              "      <td>1</td>\n",
              "    </tr>\n",
              "    <tr>\n",
              "      <th>9</th>\n",
              "      <td>0</td>\n",
              "      <td>0</td>\n",
              "      <td>0</td>\n",
              "    </tr>\n",
              "  </tbody>\n",
              "</table>\n",
              "</div>\n",
              "    <div class=\"colab-df-buttons\">\n",
              "\n",
              "  <div class=\"colab-df-container\">\n",
              "    <button class=\"colab-df-convert\" onclick=\"convertToInteractive('df-7126b223-e310-4990-bb97-93694b9e6b11')\"\n",
              "            title=\"Convert this dataframe to an interactive table.\"\n",
              "            style=\"display:none;\">\n",
              "\n",
              "  <svg xmlns=\"http://www.w3.org/2000/svg\" height=\"24px\" viewBox=\"0 -960 960 960\">\n",
              "    <path d=\"M120-120v-720h720v720H120Zm60-500h600v-160H180v160Zm220 220h160v-160H400v160Zm0 220h160v-160H400v160ZM180-400h160v-160H180v160Zm440 0h160v-160H620v160ZM180-180h160v-160H180v160Zm440 0h160v-160H620v160Z\"/>\n",
              "  </svg>\n",
              "    </button>\n",
              "\n",
              "  <style>\n",
              "    .colab-df-container {\n",
              "      display:flex;\n",
              "      gap: 12px;\n",
              "    }\n",
              "\n",
              "    .colab-df-convert {\n",
              "      background-color: #E8F0FE;\n",
              "      border: none;\n",
              "      border-radius: 50%;\n",
              "      cursor: pointer;\n",
              "      display: none;\n",
              "      fill: #1967D2;\n",
              "      height: 32px;\n",
              "      padding: 0 0 0 0;\n",
              "      width: 32px;\n",
              "    }\n",
              "\n",
              "    .colab-df-convert:hover {\n",
              "      background-color: #E2EBFA;\n",
              "      box-shadow: 0px 1px 2px rgba(60, 64, 67, 0.3), 0px 1px 3px 1px rgba(60, 64, 67, 0.15);\n",
              "      fill: #174EA6;\n",
              "    }\n",
              "\n",
              "    .colab-df-buttons div {\n",
              "      margin-bottom: 4px;\n",
              "    }\n",
              "\n",
              "    [theme=dark] .colab-df-convert {\n",
              "      background-color: #3B4455;\n",
              "      fill: #D2E3FC;\n",
              "    }\n",
              "\n",
              "    [theme=dark] .colab-df-convert:hover {\n",
              "      background-color: #434B5C;\n",
              "      box-shadow: 0px 1px 3px 1px rgba(0, 0, 0, 0.15);\n",
              "      filter: drop-shadow(0px 1px 2px rgba(0, 0, 0, 0.3));\n",
              "      fill: #FFFFFF;\n",
              "    }\n",
              "  </style>\n",
              "\n",
              "    <script>\n",
              "      const buttonEl =\n",
              "        document.querySelector('#df-7126b223-e310-4990-bb97-93694b9e6b11 button.colab-df-convert');\n",
              "      buttonEl.style.display =\n",
              "        google.colab.kernel.accessAllowed ? 'block' : 'none';\n",
              "\n",
              "      async function convertToInteractive(key) {\n",
              "        const element = document.querySelector('#df-7126b223-e310-4990-bb97-93694b9e6b11');\n",
              "        const dataTable =\n",
              "          await google.colab.kernel.invokeFunction('convertToInteractive',\n",
              "                                                    [key], {});\n",
              "        if (!dataTable) return;\n",
              "\n",
              "        const docLinkHtml = 'Like what you see? Visit the ' +\n",
              "          '<a target=\"_blank\" href=https://colab.research.google.com/notebooks/data_table.ipynb>data table notebook</a>'\n",
              "          + ' to learn more about interactive tables.';\n",
              "        element.innerHTML = '';\n",
              "        dataTable['output_type'] = 'display_data';\n",
              "        await google.colab.output.renderOutput(dataTable, element);\n",
              "        const docLink = document.createElement('div');\n",
              "        docLink.innerHTML = docLinkHtml;\n",
              "        element.appendChild(docLink);\n",
              "      }\n",
              "    </script>\n",
              "  </div>\n",
              "\n",
              "\n",
              "<div id=\"df-4f0703cb-2be1-4a72-aed4-afd9b516cbeb\">\n",
              "  <button class=\"colab-df-quickchart\" onclick=\"quickchart('df-4f0703cb-2be1-4a72-aed4-afd9b516cbeb')\"\n",
              "            title=\"Suggest charts\"\n",
              "            style=\"display:none;\">\n",
              "\n",
              "<svg xmlns=\"http://www.w3.org/2000/svg\" height=\"24px\"viewBox=\"0 0 24 24\"\n",
              "     width=\"24px\">\n",
              "    <g>\n",
              "        <path d=\"M19 3H5c-1.1 0-2 .9-2 2v14c0 1.1.9 2 2 2h14c1.1 0 2-.9 2-2V5c0-1.1-.9-2-2-2zM9 17H7v-7h2v7zm4 0h-2V7h2v10zm4 0h-2v-4h2v4z\"/>\n",
              "    </g>\n",
              "</svg>\n",
              "  </button>\n",
              "\n",
              "<style>\n",
              "  .colab-df-quickchart {\n",
              "      --bg-color: #E8F0FE;\n",
              "      --fill-color: #1967D2;\n",
              "      --hover-bg-color: #E2EBFA;\n",
              "      --hover-fill-color: #174EA6;\n",
              "      --disabled-fill-color: #AAA;\n",
              "      --disabled-bg-color: #DDD;\n",
              "  }\n",
              "\n",
              "  [theme=dark] .colab-df-quickchart {\n",
              "      --bg-color: #3B4455;\n",
              "      --fill-color: #D2E3FC;\n",
              "      --hover-bg-color: #434B5C;\n",
              "      --hover-fill-color: #FFFFFF;\n",
              "      --disabled-bg-color: #3B4455;\n",
              "      --disabled-fill-color: #666;\n",
              "  }\n",
              "\n",
              "  .colab-df-quickchart {\n",
              "    background-color: var(--bg-color);\n",
              "    border: none;\n",
              "    border-radius: 50%;\n",
              "    cursor: pointer;\n",
              "    display: none;\n",
              "    fill: var(--fill-color);\n",
              "    height: 32px;\n",
              "    padding: 0;\n",
              "    width: 32px;\n",
              "  }\n",
              "\n",
              "  .colab-df-quickchart:hover {\n",
              "    background-color: var(--hover-bg-color);\n",
              "    box-shadow: 0 1px 2px rgba(60, 64, 67, 0.3), 0 1px 3px 1px rgba(60, 64, 67, 0.15);\n",
              "    fill: var(--button-hover-fill-color);\n",
              "  }\n",
              "\n",
              "  .colab-df-quickchart-complete:disabled,\n",
              "  .colab-df-quickchart-complete:disabled:hover {\n",
              "    background-color: var(--disabled-bg-color);\n",
              "    fill: var(--disabled-fill-color);\n",
              "    box-shadow: none;\n",
              "  }\n",
              "\n",
              "  .colab-df-spinner {\n",
              "    border: 2px solid var(--fill-color);\n",
              "    border-color: transparent;\n",
              "    border-bottom-color: var(--fill-color);\n",
              "    animation:\n",
              "      spin 1s steps(1) infinite;\n",
              "  }\n",
              "\n",
              "  @keyframes spin {\n",
              "    0% {\n",
              "      border-color: transparent;\n",
              "      border-bottom-color: var(--fill-color);\n",
              "      border-left-color: var(--fill-color);\n",
              "    }\n",
              "    20% {\n",
              "      border-color: transparent;\n",
              "      border-left-color: var(--fill-color);\n",
              "      border-top-color: var(--fill-color);\n",
              "    }\n",
              "    30% {\n",
              "      border-color: transparent;\n",
              "      border-left-color: var(--fill-color);\n",
              "      border-top-color: var(--fill-color);\n",
              "      border-right-color: var(--fill-color);\n",
              "    }\n",
              "    40% {\n",
              "      border-color: transparent;\n",
              "      border-right-color: var(--fill-color);\n",
              "      border-top-color: var(--fill-color);\n",
              "    }\n",
              "    60% {\n",
              "      border-color: transparent;\n",
              "      border-right-color: var(--fill-color);\n",
              "    }\n",
              "    80% {\n",
              "      border-color: transparent;\n",
              "      border-right-color: var(--fill-color);\n",
              "      border-bottom-color: var(--fill-color);\n",
              "    }\n",
              "    90% {\n",
              "      border-color: transparent;\n",
              "      border-bottom-color: var(--fill-color);\n",
              "    }\n",
              "  }\n",
              "</style>\n",
              "\n",
              "  <script>\n",
              "    async function quickchart(key) {\n",
              "      const quickchartButtonEl =\n",
              "        document.querySelector('#' + key + ' button');\n",
              "      quickchartButtonEl.disabled = true;  // To prevent multiple clicks.\n",
              "      quickchartButtonEl.classList.add('colab-df-spinner');\n",
              "      try {\n",
              "        const charts = await google.colab.kernel.invokeFunction(\n",
              "            'suggestCharts', [key], {});\n",
              "      } catch (error) {\n",
              "        console.error('Error during call to suggestCharts:', error);\n",
              "      }\n",
              "      quickchartButtonEl.classList.remove('colab-df-spinner');\n",
              "      quickchartButtonEl.classList.add('colab-df-quickchart-complete');\n",
              "    }\n",
              "    (() => {\n",
              "      let quickchartButtonEl =\n",
              "        document.querySelector('#df-4f0703cb-2be1-4a72-aed4-afd9b516cbeb button');\n",
              "      quickchartButtonEl.style.display =\n",
              "        google.colab.kernel.accessAllowed ? 'block' : 'none';\n",
              "    })();\n",
              "  </script>\n",
              "</div>\n",
              "    </div>\n",
              "  </div>\n"
            ]
          },
          "metadata": {},
          "execution_count": 6
        }
      ]
    },
    {
      "cell_type": "markdown",
      "source": [
        "## **Now that I have encoded the data, I am preparing the model by creators the predictors as X and the target as y. Then, I am preparing for a model that has a 70% training data and 30% test data.**"
      ],
      "metadata": {
        "id": "A0vjBE6Vzggw"
      }
    },
    {
      "cell_type": "code",
      "source": [
        "from sklearn.model_selection import train_test_split\n",
        "\n",
        "# Prepare X and y\n",
        "X = encoded_adultDF.filter(['marital-status','capital-gains-losses'], axis=1)\n",
        "y = encoded_adultDF['income']\n",
        "\n",
        "\n",
        "# Let's do an 70-30 split\n",
        "X_train, X_test, y_train, y_test = \\\n",
        "    train_test_split(X, y, random_state=42, shuffle=True, train_size=0.70, stratify=y)\n",
        "\n"
      ],
      "metadata": {
        "id": "VP4ifdBrLBpt"
      },
      "execution_count": null,
      "outputs": []
    },
    {
      "cell_type": "markdown",
      "source": [
        "## **Here, I am examining the class distibutions of the training and testing datasets.**"
      ],
      "metadata": {
        "id": "VbbmfT782JRu"
      }
    },
    {
      "cell_type": "code",
      "source": [
        "\n",
        "plt.figure(figsize=(10,5))\n",
        "plt.subplot(1,2,1)\n",
        "plt.hist(y_train);\n",
        "plt.title('Frequency of different classes - Training data');\n",
        "\n",
        "plt.subplot(1,2,2)\n",
        "plt.hist(y_test);\n",
        "plt.title('Frequency of different classes - Testing data');\n",
        "\n",
        "\n"
      ],
      "metadata": {
        "colab": {
          "base_uri": "https://localhost:8080/",
          "height": 468
        },
        "id": "cp8I1i4ELHAh",
        "outputId": "f09683c7-b444-46fb-e1f0-ae1564ac7ad7"
      },
      "execution_count": null,
      "outputs": [
        {
          "output_type": "display_data",
          "data": {
            "text/plain": [
              "<Figure size 1000x500 with 2 Axes>"
            ],
            "image/png": "[encoded data removed]"
          },
          "metadata": {}
        }
      ]
    },
    {
      "cell_type": "code",
      "source": [
        "from sklearn.tree import DecisionTreeClassifier\n",
        "from sklearn import tree\n"
      ],
      "metadata": {
        "id": "nLyKDMgXLNJg"
      },
      "execution_count": null,
      "outputs": []
    },
    {
      "cell_type": "markdown",
      "source": [
        "## **The first decision tree classifier I will use is the CART classifier that uses the Gini index to measure the impurity of a node.**"
      ],
      "metadata": {
        "id": "FU5jXXSM7xik"
      }
    },
    {
      "cell_type": "code",
      "source": [
        "cart_classifier = DecisionTreeClassifier(criterion = \"gini\",\n",
        "                                         max_leaf_nodes=5,\n",
        "                                         random_state = 120).fit(X_train, y_train)\n",
        "\n",
        "from matplotlib.pyplot import figure\n",
        "figure(figsize=(10, 8), dpi=80)\n",
        "\n",
        "\n",
        "# Plotting the tree\n",
        "cn = ['low_income', 'hi_income']\n",
        "tree.plot_tree(cart_classifier, feature_names=X.columns.values.tolist(),\n",
        "                                class_names=cn,\n",
        "                                filled = True)\n",
        "\n",
        "\n",
        "# Printing the text representation of the tree\n",
        "text_representation = tree.export_text(cart_classifier,\n",
        "                                       feature_names=X.columns.values.tolist())\n",
        "print(text_representation)\n",
        "\n"
      ],
      "metadata": {
        "colab": {
          "base_uri": "https://localhost:8080/",
          "height": 768
        },
        "id": "ryttoHLKLVzp",
        "outputId": "72f7eb43-9659-42a7-d34e-bc7e55644cd6"
      },
      "execution_count": null,
      "outputs": [
        {
          "output_type": "stream",
          "name": "stdout",
          "text": [
            "|--- capital-gains-losses <= 5095.50\n",
            "|   |--- marital-status <= 2.50\n",
            "|   |   |--- marital-status <= 0.50\n",
            "|   |   |   |--- class: 0\n",
            "|   |   |--- marital-status >  0.50\n",
            "|   |   |   |--- capital-gains-losses <= 1822.50\n",
            "|   |   |   |   |--- class: 0\n",
            "|   |   |   |--- capital-gains-losses >  1822.50\n",
            "|   |   |   |   |--- class: 1\n",
            "|   |--- marital-status >  2.50\n",
            "|   |   |--- class: 0\n",
            "|--- capital-gains-losses >  5095.50\n",
            "|   |--- class: 1\n",
            "\n"
          ]
        },
        {
          "output_type": "display_data",
          "data": {
            "text/plain": [
              "<Figure size 800x640 with 1 Axes>"
            ],
            "image/png": "[encoded data removed]"
          },
          "metadata": {}
        }
      ]
    },
    {
      "cell_type": "markdown",
      "source": [
        "## **In this classifier, I can see that the classifier chose 'capitial-gains-losses' as the parent node. Also, becaues I set the max_leaf_nodes to 5, the classifiers stop pruning after the fifth node. Overall the level of gini-index indicates that the purity of these nodes are low as most of the nodes have high gini index.**"
      ],
      "metadata": {
        "id": "2uoF-YWl9rMe"
      }
    },
    {
      "cell_type": "markdown",
      "source": [
        "## **The second decision tree classifier I will use is the C5.0 classifier that uses entropy to measure the impurity of a node.**"
      ],
      "metadata": {
        "id": "Z3GYi12f_ceR"
      }
    },
    {
      "cell_type": "code",
      "source": [
        "c5_classifier = DecisionTreeClassifier(criterion = \"entropy\",\n",
        "                                       max_leaf_nodes=5,\n",
        "                                       random_state = 120).fit(X_train,y_train)\n",
        "\n",
        "\n",
        "from matplotlib.pyplot import figure\n",
        "figure(figsize=(12, 10), dpi=80)\n",
        "\n",
        "\n",
        "# Plotting the tree\n",
        "cn = ['low_income', 'hi_income']\n",
        "tree.plot_tree(c5_classifier, feature_names=X.columns.values.tolist(),\n",
        "                                class_names=cn,\n",
        "                                filled=True)\n",
        "\n",
        "\n",
        "# Printing the text representation of the tree\n",
        "text_representation = tree.export_text(c5_classifier,\n",
        "                                       feature_names=X.columns.values.tolist())\n",
        "print(text_representation)\n",
        "\n",
        "\n",
        "\n"
      ],
      "metadata": {
        "id": "OH-615RUL_XV",
        "outputId": "48f65979-252a-4c15-f40b-e41c80fca93d",
        "colab": {
          "base_uri": "https://localhost:8080/",
          "height": 892
        }
      },
      "execution_count": null,
      "outputs": [
        {
          "output_type": "stream",
          "name": "stdout",
          "text": [
            "|--- marital-status <= 2.50\n",
            "|   |--- capital-gains-losses <= 5095.50\n",
            "|   |   |--- marital-status <= 0.50\n",
            "|   |   |   |--- class: 0\n",
            "|   |   |--- marital-status >  0.50\n",
            "|   |   |   |--- class: 0\n",
            "|   |--- capital-gains-losses >  5095.50\n",
            "|   |   |--- class: 1\n",
            "|--- marital-status >  2.50\n",
            "|   |--- capital-gains-losses <= 4718.50\n",
            "|   |   |--- class: 0\n",
            "|   |--- capital-gains-losses >  4718.50\n",
            "|   |   |--- class: 1\n",
            "\n"
          ]
        },
        {
          "output_type": "display_data",
          "data": {
            "text/plain": [
              "<Figure size 960x800 with 1 Axes>"
            ],
            "image/png": "[encoded data removed]"
          },
          "metadata": {}
        }
      ]
    },
    {
      "cell_type": "markdown",
      "source": [
        "## **In this classifier, I see that 'marital-status' was chosen as the parent node as opposed to 'capital-gains-losses' from the CART classifier. Like the first classifier, I set the max_leaf-_nodes to 5 and it seems that the levels of overall the levels of entropy in the nodes vary from low to high. About half the nodes have entropy close to 1 meaning close to pure while the others are considerably less.**"
      ],
      "metadata": {
        "id": "TXxDcR5ZBO6y"
      }
    },
    {
      "cell_type": "markdown",
      "source": [
        "## **Next, I will use the score function to record the classification accuracy of the training and test datasets for both the Cart and C5 classifiers.**"
      ],
      "metadata": {
        "id": "JXd6XWeCFxsn"
      }
    },
    {
      "cell_type": "code",
      "source": [
        "# CART\n",
        "score1 = round(cart_classifier.score(X_train, y_train), 2) # training score\n",
        "score2 = round(cart_classifier.score(X_test, y_test), 2)   # testing score\n",
        "\n",
        "print (\"CART Training and Testing scores: %.2f, %.2f\" %  (score1, score2))\n",
        "\n",
        "\n",
        "# C5\n",
        "score3 = round(c5_classifier.score(X_train, y_train), 2) # training score\n",
        "score4 = round(c5_classifier.score(X_test, y_test), 2)   # testing score\n",
        "\n",
        "print (\"C5.0 Training and Testing scores: %.2f, %.2f\" %  (score3, score4))\n",
        "\n",
        "\n",
        "\n"
      ],
      "metadata": {
        "colab": {
          "base_uri": "https://localhost:8080/"
        },
        "id": "wemVqT8qCBf-",
        "outputId": "bf73e1cc-0bec-4a94-cc6f-b2a10176633e"
      },
      "execution_count": null,
      "outputs": [
        {
          "output_type": "stream",
          "name": "stdout",
          "text": [
            "CART Training and Testing scores: 0.81, 0.81\n",
            "C5.0 Training and Testing scores: 0.80, 0.80\n"
          ]
        }
      ]
    },
    {
      "cell_type": "markdown",
      "source": [
        "## **The .score functions measure the variance that our depdepent variable that can be explained by our independent variable. It tells us how well our model fits our observed data and the closer to 1 the better. I oberserved that both the Cart and C5 training and testing score are close or are 0.8, meaning the model fit 80% of the data, which is pretty good.**"
      ],
      "metadata": {
        "id": "RZu4CxNMGX3H"
      }
    },
    {
      "cell_type": "markdown",
      "source": [
        "## **Confusion matrixes help us to observe how many of our classifier's prediictions were correct and incorrect, I have made confusion matrics for Cart and C5.**"
      ],
      "metadata": {
        "id": "wgQiOVotJGgf"
      }
    },
    {
      "cell_type": "code",
      "source": [
        "from sklearn.metrics import confusion_matrix\n",
        "\n",
        "# Record CART's and C5's predictions\n",
        "cart_predictions = cart_classifier.predict(X_test)\n",
        "c5_predictions = c5_classifier.predict(X_test)\n",
        "\n",
        "\n",
        "# Compute TP, TN, FP, FN values for CART\n",
        "cart_cm = confusion_matrix(y_true=y_test,\n",
        "                           y_pred = cart_predictions)\n",
        "\n",
        "c5_cm = confusion_matrix(y_true=y_test,\n",
        "                        y_pred = c5_predictions)\n",
        "\n",
        "# Print CART's confusion matrix\n",
        "print(cart_cm)\n",
        "\n",
        "print(\"-----------\")\n",
        "\n",
        "# Print C5's confusion matrix\n",
        "print(c5_cm)\n"
      ],
      "metadata": {
        "colab": {
          "base_uri": "https://localhost:8080/"
        },
        "id": "BBUX5yXfCHWw",
        "outputId": "9a7022fa-5df9-4c7f-f5f1-e26fb2155729"
      },
      "execution_count": null,
      "outputs": [
        {
          "output_type": "stream",
          "name": "stdout",
          "text": [
            "[[3287   87]\n",
            " [ 753  313]]\n",
            "-----------\n",
            "[[3356   18]\n",
            " [ 859  207]]\n"
          ]
        }
      ]
    },
    {
      "cell_type": "markdown",
      "source": [
        "## **The main diagonal of the confusion matrix shows the agreement in predictions between two classes. Here, the matrix is predicting whether it is low income or high income and on the main diagonal both predictors have a higher amount of agreement for low, but lower for high. It seems that class 1 misdentified many high income adults.**"
      ],
      "metadata": {
        "id": "k0SvYtcZJ2d3"
      }
    },
    {
      "cell_type": "markdown",
      "source": [
        "## **This the heatmap of the confusion matrix for the Cart classifer. The heatmap shows the same information as the confusion matrix, but gives a color coded representation to show the variance.**"
      ],
      "metadata": {
        "id": "1zbqMlaqN-2E"
      }
    },
    {
      "cell_type": "code",
      "source": [
        "# Visualize CART's confusion matrix as a heatmap\n",
        "\n",
        "import seaborn as sns\n",
        "\n",
        "plt.figure(figsize=(8,8))\n",
        "sns.heatmap(cart_cm, annot=True,\n",
        "            linewidths=.5, square = True, cmap = 'Oranges_r', fmt='0.4g');\n",
        "\n",
        "plt.ylabel('Actual label')\n",
        "plt.xlabel('Predicted label')\n",
        "\n"
      ],
      "metadata": {
        "colab": {
          "base_uri": "https://localhost:8080/",
          "height": 670
        },
        "id": "cgJUjP2oCJMF",
        "outputId": "85216f4e-de82-44f4-a4f0-7d47eb7718af"
      },
      "execution_count": null,
      "outputs": [
        {
          "output_type": "execute_result",
          "data": {
            "text/plain": [
              "Text(0.5, 118.72222222222216, 'Predicted label')"
            ]
          },
          "metadata": {},
          "execution_count": 14
        },
        {
          "output_type": "display_data",
          "data": {
            "text/plain": [
              "<Figure size 800x800 with 2 Axes>"
            ],
            "image/png": "[encoded data removed]"
          },
          "metadata": {}
        }
      ]
    },
    {
      "cell_type": "markdown",
      "source": [
        "## **This the heatmap of the confusion matrix for the C5 classifer. The heatmap shows the same information as the confusion matrix, but gives a color coded representation to show the variance.**"
      ],
      "metadata": {
        "id": "HcPm9HnEOfeX"
      }
    },
    {
      "cell_type": "code",
      "source": [
        "# Visualize C5's confusion matrix as a heatmap\n",
        "\n",
        "import seaborn as sns\n",
        "\n",
        "plt.figure(figsize=(8,8))\n",
        "sns.heatmap(c5_cm, annot=True,\n",
        "            linewidths=.5, square = True, cmap = 'Oranges_r', fmt='0.4g');\n",
        "\n",
        "plt.ylabel('Actual label')\n",
        "plt.xlabel('Predicted label')\n",
        "\n"
      ],
      "metadata": {
        "colab": {
          "base_uri": "https://localhost:8080/",
          "height": 670
        },
        "id": "epgAwo8SCLRP",
        "outputId": "ad7a7dab-563a-478b-cc86-ee6cd2072c22"
      },
      "execution_count": null,
      "outputs": [
        {
          "output_type": "execute_result",
          "data": {
            "text/plain": [
              "Text(0.5, 118.72222222222216, 'Predicted label')"
            ]
          },
          "metadata": {},
          "execution_count": 15
        },
        {
          "output_type": "display_data",
          "data": {
            "text/plain": [
              "<Figure size 800x800 with 2 Axes>"
            ],
            "image/png": "[encoded data removed]"
          },
          "metadata": {}
        }
      ]
    },
    {
      "cell_type": "markdown",
      "source": [
        "## **Now that we have both classifiers, we can compare them.**"
      ],
      "metadata": {
        "id": "Wx2zU_TVOrbe"
      }
    },
    {
      "cell_type": "code",
      "source": [
        "import matplotlib\n",
        "import matplotlib.pyplot as plt\n",
        "import numpy as np\n",
        "\n",
        "\n",
        "labels = ['CART', 'C5.0']\n",
        "training_scores = [score1, score3]\n",
        "testing_scores =  [score2, score4]\n",
        "\n",
        "x = np.arange(2)  # the label locations\n",
        "width = 0.35  # the width of the bars\n",
        "\n",
        "fig, ax = plt.subplots()\n",
        "rects1 = ax.bar(x - width/2, training_scores, width, label='Training', color='red')\n",
        "rects2 = ax.bar(x + width/2, testing_scores, width, label='Testing', color='lightgreen')\n",
        "\n",
        "ax.set_ylabel('Accuracy')\n",
        "ax.set_xlabel('Models')\n",
        "ax.set_xticks(x)\n",
        "ax.set_ylim(0,1)\n",
        "ax.set_xticklabels(labels)\n",
        "ax.legend(bbox_to_anchor = (1.3, 1.0), loc='upper right')\n",
        "\n",
        "plt.title('Cart Classifier Vs. C5.0 Classifier')\n",
        "plt.show()\n",
        "\n"
      ],
      "metadata": {
        "colab": {
          "base_uri": "https://localhost:8080/",
          "height": 472
        },
        "id": "B7MGHJ7DCO7U",
        "outputId": "11e78d58-4373-4a53-a630-409c0e164b73"
      },
      "execution_count": null,
      "outputs": [
        {
          "output_type": "display_data",
          "data": {
            "text/plain": [
              "<Figure size 640x480 with 1 Axes>"
            ],
            "image/png": "[encoded data removed]"
          },
          "metadata": {}
        }
      ]
    },
    {
      "cell_type": "markdown",
      "source": [
        "## **After seeing them side by side and knowing the accuracy score from eariler, I oberseved that both models' accuracy levels are very close. This is also taking into account that I have set the max_leaf_node for each to be 5 and not set the max_depth, which I will do in the next step to see how that changes the classifiers.**"
      ],
      "metadata": {
        "id": "yhYgf6S-PTji"
      }
    },
    {
      "cell_type": "markdown",
      "source": [
        "## ***For the next part of the project, I will be changing the values of the max_leaf nodes and max_depth to observe how they cahange the accuracy scores.***"
      ],
      "metadata": {
        "id": "Wt7spq1_CnZz"
      }
    },
    {
      "cell_type": "code",
      "source": [
        "#changing max_leaf_nodes\n",
        "#max_leaf_nodes=3\n",
        "cart_classifier = DecisionTreeClassifier(criterion = \"gini\",\n",
        "                                        max_leaf_nodes=3,\n",
        "                                         random_state = 120).fit(X_train, y_train)\n",
        "\n",
        "score1 = round(cart_classifier.score(X_train, y_train), 2)\n",
        "score2 = round(cart_classifier.score(X_test, y_test), 2)\n",
        "\n",
        "print (\"Max-leaf-nodes=3: %.2f, %.2f\" %  (score1, score2))\n",
        "\n",
        "#max_leaf_nodes=4\n",
        "cart_classifier = DecisionTreeClassifier(criterion = \"gini\",\n",
        "                                        max_leaf_nodes=4,\n",
        "                                         random_state = 120).fit(X_train, y_train)\n",
        "\n",
        "score1 = round(cart_classifier.score(X_train, y_train), 2)\n",
        "score2 = round(cart_classifier.score(X_test, y_test), 2)\n",
        "\n",
        "print (\"Max-leaf-nodes=4: %.2f, %.2f\" %  (score1, score2))\n",
        "\n",
        "#changing max_deapth\n",
        "#max_depth=2\n",
        "cart_classifier = DecisionTreeClassifier(criterion = \"gini\",\n",
        "                                        max_depth=2,\n",
        "                                         random_state = 120).fit(X_train, y_train)\n",
        "\n",
        "score1 = round(cart_classifier.score(X_train, y_train), 2)\n",
        "score2 = round(cart_classifier.score(X_test, y_test), 2)\n",
        "\n",
        "print (\"Max-depth=2: %.2f, %.2f\" %  (score1, score2))\n",
        "\n",
        "#max_depth=3\n",
        "cart_classifier = DecisionTreeClassifier(criterion = \"gini\",\n",
        "                                        max_depth=3,\n",
        "                                         random_state = 120).fit(X_train, y_train)\n",
        "\n",
        "score1 = round(cart_classifier.score(X_train, y_train), 2)\n",
        "score2 = round(cart_classifier.score(X_test, y_test), 2)\n",
        "\n",
        "print (\"Max-depth=3: %.2f, %.2f\" %  (score1, score2))\n",
        "\n",
        "#max_depth=4\n",
        "cart_classifier = DecisionTreeClassifier(criterion = \"gini\",\n",
        "                                        max_depth=4,\n",
        "                                         random_state = 120).fit(X_train, y_train)\n",
        "\n",
        "score1 = round(cart_classifier.score(X_train, y_train), 2)\n",
        "score2 = round(cart_classifier.score(X_test, y_test), 2)\n",
        "\n",
        "print (\"Max-depth=4: %.2f, %.2f\" %  (score1, score2))"
      ],
      "metadata": {
        "colab": {
          "base_uri": "https://localhost:8080/"
        },
        "id": "-uWGVEQ9P8hK",
        "outputId": "f3517db5-fa79-4173-e0e2-cb4dbad826d6"
      },
      "execution_count": null,
      "outputs": [
        {
          "output_type": "stream",
          "name": "stdout",
          "text": [
            "Max-leaf-nodes=3: 0.80, 0.80\n",
            "Max-leaf-nodes=4: 0.80, 0.80\n",
            "Max-depth=2: 0.80, 0.80\n",
            "Max-depth=3: 0.81, 0.80\n",
            "Max-depth=4: 0.81, 0.81\n"
          ]
        }
      ]
    },
    {
      "cell_type": "markdown",
      "source": [
        "## **Here I am observing how changing the max-leaf-nodes and max-depth will affect the scores for cart classifier. For max-leaf-nodes, the score did not change, but for depth it seems the scores did slighting imporve the deeper the depth.**"
      ],
      "metadata": {
        "id": "i8oQeGT7jENu"
      }
    },
    {
      "cell_type": "code",
      "source": [
        "#changing max_leaf_nodes\n",
        "c5_classifier = DecisionTreeClassifier(criterion = \"entropy\",\n",
        "                                       max_leaf_nodes=3,\n",
        "                                       random_state = 120).fit(X_train,y_train)\n",
        "\n",
        "score3 = round(c5_classifier.score(X_train, y_train), 2)\n",
        "score4 = round(c5_classifier.score(X_test, y_test), 2)\n",
        "\n",
        "print (\"Max-leaf-nodes=3: %.2f, %.2f\" %  (score3, score4))\n",
        "\n",
        "c5_classifier = DecisionTreeClassifier(criterion = \"entropy\",\n",
        "                                       max_leaf_nodes=4,\n",
        "                                       random_state = 120).fit(X_train,y_train)\n",
        "\n",
        "score3 = round(c5_classifier.score(X_train, y_train), 2)\n",
        "score4 = round(c5_classifier.score(X_test, y_test), 2)\n",
        "\n",
        "print (\"Max-leaf-nodes=3: %.2f, %.2f\" %  (score3, score4))\n",
        "\n",
        "#changing max_deapth\n",
        "c5_classifier = DecisionTreeClassifier(criterion = \"entropy\",\n",
        "                                       max_depth=3,\n",
        "                                       random_state = 120).fit(X_train,y_train)\n",
        "\n",
        "score3 = round(c5_classifier.score(X_train, y_train), 2)\n",
        "score4 = round(c5_classifier.score(X_test, y_test), 2)\n",
        "\n",
        "print (\"Max-depth=2: %.2f, %.2f\" %  (score3, score4))\n",
        "\n",
        "c5_classifier = DecisionTreeClassifier(criterion = \"entropy\",\n",
        "                                       max_depth=4,\n",
        "                                       random_state = 120).fit(X_train,y_train)\n",
        "\n",
        "score3 = round(c5_classifier.score(X_train, y_train), 2)\n",
        "score4 = round(c5_classifier.score(X_test, y_test), 2)\n",
        "\n",
        "print (\"Max-depth=4: %.2f, %.2f\" %  (score3, score4))\n",
        "\n",
        "c5_classifier = DecisionTreeClassifier(criterion = \"entropy\",\n",
        "                                       max_depth=5,\n",
        "                                       random_state = 120).fit(X_train,y_train)\n",
        "\n",
        "score3 = round(c5_classifier.score(X_train, y_train), 2)\n",
        "score4 = round(c5_classifier.score(X_test, y_test), 2)\n",
        "\n",
        "print (\"Max-depth=5: %.2f, %.2f\" %  (score3, score4))\n",
        "\n",
        "\n"
      ],
      "metadata": {
        "colab": {
          "base_uri": "https://localhost:8080/"
        },
        "id": "4pExSPSKP_WN",
        "outputId": "83196637-df58-4ce2-98d5-88f0e13bc811"
      },
      "execution_count": null,
      "outputs": [
        {
          "output_type": "stream",
          "name": "stdout",
          "text": [
            "Max-leaf-nodes=3: 0.80, 0.80\n",
            "Max-leaf-nodes=3: 0.80, 0.80\n",
            "Max-depth=2: 0.80, 0.80\n",
            "Max-depth=4: 0.81, 0.81\n",
            "Max-depth=5: 0.83, 0.82\n"
          ]
        }
      ]
    },
    {
      "cell_type": "markdown",
      "source": [
        "## **Here I am observing how changing the max-leaf-nodes and max-depth will affect the scores for C5 classifier. Again, changing the max-leaf-nodes did not change the score, but increasing the depth seems to have caused a greater score change than in the CART classifier.**"
      ],
      "metadata": {
        "id": "8fEc1GeRkRVk"
      }
    },
    {
      "cell_type": "markdown",
      "source": [
        "# ***Conclusions***"
      ],
      "metadata": {
        "id": "GOoGsNWrkpv0"
      }
    },
    {
      "cell_type": "markdown",
      "source": [
        "## **After having built the CART and C5 classifiers and comparing them, I observed that had roughly the same predications with the CART classifier scoring 1% higher than the C5 classifier. Seeing as both had almost the same score, it shows in their respective confusion matrixes as the main diagonal in both also predicted simliar results.**"
      ],
      "metadata": {
        "id": "wUfkCFu4kuf7"
      }
    },
    {
      "cell_type": "markdown",
      "source": [
        "## **Thinking about the way the two classifiers make their model it makes sense that they are so simliar. CART uses Gini and C5 uses entropy to measure the impurity of a node. Both are used to measure the same thing, but Gini is a bit less data intensive as it does not use log.**"
      ],
      "metadata": {
        "id": "6jw0Whvemh7M"
      }
    },
    {
      "cell_type": "markdown",
      "source": [
        "## **I did observe that changing certain aspects such as max-depth did increase the score for the C5 classifier much more than the CART classifier. Overall, it makes sense that both classifiers had the same score because they both are measuring the same thing.**"
      ],
      "metadata": {
        "id": "5CflRkOXnK3L"
      }
    }
  ]
}
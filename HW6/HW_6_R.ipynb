{
  "nbformat": 4,
  "nbformat_minor": 0,
  "metadata": {
    "colab": {
      "provenance": []
    },
    "kernelspec": {
      "name": "ir",
      "display_name": "R"
    },
    "language_info": {
      "name": "R"
    }
  },
  "cells": [
    {
      "cell_type": "markdown",
      "source": [
        "# **Rani Son**"
      ],
      "metadata": {
        "id": "aPLRhuJ3XoUG"
      }
    },
    {
      "cell_type": "markdown",
      "source": [
        "## **Problem 2 R**\n",
        "\n"
      ],
      "metadata": {
        "id": "kJk-G8PeXqQP"
      }
    },
    {
      "cell_type": "markdown",
      "source": [
        "## **An Statistical Analysis of Adults**"
      ],
      "metadata": {
        "id": "oC3AMm2DKNcd"
      }
    },
    {
      "cell_type": "markdown",
      "source": [
        "## **First, I will inport the testing and training data with various aspects of loan data such as approvals, debt-to-income ratio, FICO score, etc.**"
      ],
      "metadata": {
        "id": "Ded-P28M-PeP"
      }
    },
    {
      "cell_type": "code",
      "execution_count": null,
      "metadata": {
        "id": "UDmHU_opLIaV"
      },
      "outputs": [],
      "source": [
        "library(readr)\n",
        "loan_train <- read_csv(\"https://raw.githubusercontent.com/bforoura/IDS/main/HW6/Loans_Training.csv\", show_col_types = FALSE)\n",
        "loan_test <- read_csv(\"https://raw.githubusercontent.com/bforoura/IDS/main/HW6/Loans_Test.csv\", show_col_types = FALSE)\n"
      ]
    },
    {
      "cell_type": "markdown",
      "source": [
        "## **These are the libraries I will use in the data analysis, the first is for C50 and the second is for CART.**"
      ],
      "metadata": {
        "id": "nheizR_C_AwW"
      }
    },
    {
      "cell_type": "code",
      "source": [
        "# libraies for C50\n",
        "install.packages(\"C50\")\n",
        "library(C50)\n",
        "# libraries for CART\n",
        "library(rpart)\n",
        "install.packages(\"rpart.plot\")\n",
        "library(rpart.plot)"
      ],
      "metadata": {
        "colab": {
          "base_uri": "https://localhost:8080/"
        },
        "id": "Lzfq1mvQ-VH-",
        "outputId": "76cbf03c-3dac-4471-f1e6-9b259e97c8d3"
      },
      "execution_count": null,
      "outputs": [
        {
          "output_type": "stream",
          "name": "stderr",
          "text": [
            "Installing package into ‘/usr/local/lib/R/site-library’\n",
            "(as ‘lib’ is unspecified)\n",
            "\n",
            "Installing package into ‘/usr/local/lib/R/site-library’\n",
            "(as ‘lib’ is unspecified)\n",
            "\n"
          ]
        }
      ]
    },
    {
      "cell_type": "markdown",
      "source": [
        "## **Firstly, I just want a view of the data I imported.**"
      ],
      "metadata": {
        "id": "bAvppDbl_huu"
      }
    },
    {
      "cell_type": "code",
      "source": [
        "summary(loan_train)"
      ],
      "metadata": {
        "id": "5wG0wFXqf7xo",
        "colab": {
          "base_uri": "https://localhost:8080/",
          "height": 260
        },
        "outputId": "c1d698d1-b5f5-4364-e73a-8bf541ef0d7c"
      },
      "execution_count": null,
      "outputs": [
        {
          "output_type": "display_data",
          "data": {
            "text/plain": [
              "  Approval       Debt-to-Income Ratio   FICO Score  Request Amount \n",
              " Mode :logical   Min.   :0.0000       Min.   :371   Min.   :  500  \n",
              " FALSE:75066     1st Qu.:0.0900       1st Qu.:647   1st Qu.: 6000  \n",
              " TRUE :75236     Median :0.1600       Median :684   Median :11000  \n",
              "                 Mean   :0.1835       Mean   :672   Mean   :13427  \n",
              "                 3rd Qu.:0.2400       3rd Qu.:714   3rd Qu.:19000  \n",
              "                 Max.   :1.0300       Max.   :869   Max.   :44000  \n",
              "    Interest    \n",
              " Min.   :  225  \n",
              " 1st Qu.: 2700  \n",
              " Median : 4950  \n",
              " Mean   : 6042  \n",
              " 3rd Qu.: 8550  \n",
              " Max.   :19800  "
            ]
          },
          "metadata": {}
        }
      ]
    },
    {
      "cell_type": "code",
      "source": [
        "summary(loan_test)"
      ],
      "metadata": {
        "id": "J85xR7VgYSmz",
        "colab": {
          "base_uri": "https://localhost:8080/",
          "height": 260
        },
        "outputId": "11e4ea1b-d8c8-4614-e41c-f4a806675734"
      },
      "execution_count": null,
      "outputs": [
        {
          "output_type": "display_data",
          "data": {
            "text/plain": [
              "  Approval       Debt-to-Income Ratio   FICO Score    Request Amount \n",
              " Mode :logical   Min.   :0.0000       Min.   :372.0   Min.   :  500  \n",
              " FALSE:24934     1st Qu.:0.0900       1st Qu.:647.0   1st Qu.: 6000  \n",
              " TRUE :24764     Median :0.1600       Median :684.0   Median :11000  \n",
              "                 Mean   :0.1831       Mean   :672.3   Mean   :13413  \n",
              "                 3rd Qu.:0.2400       3rd Qu.:714.0   3rd Qu.:19000  \n",
              "                 Max.   :1.0500       Max.   :866.0   Max.   :42000  \n",
              "    Interest    \n",
              " Min.   :  225  \n",
              " 1st Qu.: 2700  \n",
              " Median : 4950  \n",
              " Mean   : 6036  \n",
              " 3rd Qu.: 8550  \n",
              " Max.   :18900  "
            ]
          },
          "metadata": {}
        }
      ]
    },
    {
      "cell_type": "markdown",
      "source": [
        "## **I noticed that the Approval section is logical, but to prepare it for model building it needs to be a factor so I will change it with the factor method.**"
      ],
      "metadata": {
        "id": "m9XeVqPr_n7f"
      }
    },
    {
      "cell_type": "code",
      "source": [
        "loan_train$Approval <- as.factor(loan_train$Approval)\n",
        "loan_test$Approval <- as.factor(loan_test$Approval)"
      ],
      "metadata": {
        "id": "Ag7yLMpVqxaS"
      },
      "execution_count": null,
      "outputs": []
    },
    {
      "cell_type": "markdown",
      "source": [
        "## **Now I need the formula that will be used to build the model. Approval or the target will be determined by the predictors, Debt-to-income Ratio and FICO Score.**"
      ],
      "metadata": {
        "id": "r-gyCZGH_2GO"
      }
    },
    {
      "cell_type": "code",
      "source": [
        "formula <- Approval ~ `Debt-to-Income Ratio` + `FICO Score`"
      ],
      "metadata": {
        "id": "GTAZMJvg4nqf"
      },
      "execution_count": null,
      "outputs": []
    },
    {
      "cell_type": "markdown",
      "source": [
        "## **After determining the formula I plan to use, now I can create the CART model using the rpart library that I also imported earlier.**"
      ],
      "metadata": {
        "id": "-cRiaaY0BzZe"
      }
    },
    {
      "cell_type": "code",
      "source": [
        "CART <- rpart(formula, loan_train, method = \"class\")"
      ],
      "metadata": {
        "id": "i0IMsG4E6HcD"
      },
      "execution_count": null,
      "outputs": []
    },
    {
      "cell_type": "markdown",
      "source": [
        "## **This section explains the summary of the CART model. It tells me that of the two predictors I chose, FICO score is of 74% importance while dept-to-income variable is 26%.**"
      ],
      "metadata": {
        "id": "kCJHHxwsVxcC"
      }
    },
    {
      "cell_type": "code",
      "source": [
        "summary(CART)"
      ],
      "metadata": {
        "colab": {
          "base_uri": "https://localhost:8080/"
        },
        "id": "l8malOIP73cJ",
        "outputId": "99979e1d-86fa-4f55-d8e1-43cc9e66d589"
      },
      "execution_count": null,
      "outputs": [
        {
          "output_type": "stream",
          "name": "stdout",
          "text": [
            "Call:\n",
            "rpart(formula = formula, data = loan_train, method = \"class\")\n",
            "  n= 150302 \n",
            "\n",
            "         CP nsplit rel error    xerror        xstd\n",
            "1 0.5646498      0 1.0000000 1.0024112 0.002582312\n",
            "2 0.1267551      1 0.4353502 0.4353369 0.002130369\n",
            "3 0.0100000      2 0.3085951 0.3091280 0.001866091\n",
            "\n",
            "Variable importance\n",
            "          FICO Score Debt-to-Income Ratio \n",
            "                  74                   26 \n",
            "\n",
            "Node number 1: 150302 observations,    complexity param=0.5646498\n",
            "  predicted class=TRUE   expected loss=0.4994345  P(node) =1\n",
            "    class counts: 75066 75236\n",
            "   probabilities: 0.499 0.501 \n",
            "  left son=2 (46002 obs) right son=3 (104300 obs)\n",
            "  Primary splits:\n",
            "      FICO Score           < 659.5 to the left,  improve=28208.770, (0 missing)\n",
            "      Debt-to-Income Ratio < 0.305 to the right, improve= 8986.886, (0 missing)\n",
            "  Surrogate splits:\n",
            "      Debt-to-Income Ratio < 1.005 to the right, agree=0.694, adj=0, (0 split)\n",
            "\n",
            "Node number 2: 46002 observations\n",
            "  predicted class=FALSE  expected loss=0.03930264  P(node) =0.3060638\n",
            "    class counts: 44194  1808\n",
            "   probabilities: 0.961 0.039 \n",
            "\n",
            "Node number 3: 104300 observations,    complexity param=0.1267551\n",
            "  predicted class=TRUE   expected loss=0.2959923  P(node) =0.6939362\n",
            "    class counts: 30872 73428\n",
            "   probabilities: 0.296 0.704 \n",
            "  left son=6 (12873 obs) right son=7 (91427 obs)\n",
            "  Primary splits:\n",
            "      Debt-to-Income Ratio < 0.305 to the right, improve=9662.8910, (0 missing)\n",
            "      FICO Score           < 671.5 to the left,  improve= 829.7591, (0 missing)\n",
            "\n",
            "Node number 6: 12873 observations\n",
            "  predicted class=FALSE  expected loss=0.130428  P(node) =0.08564756\n",
            "    class counts: 11194  1679\n",
            "   probabilities: 0.870 0.130 \n",
            "\n",
            "Node number 7: 91427 observations\n",
            "  predicted class=TRUE   expected loss=0.2152318  P(node) =0.6082886\n",
            "    class counts: 19678 71749\n",
            "   probabilities: 0.215 0.785 \n",
            "\n"
          ]
        }
      ]
    },
    {
      "cell_type": "markdown",
      "source": [
        "## **After creating the model, the next step is giving it the testing data to see how well the model can predict based on the training data I had fed it.**"
      ],
      "metadata": {
        "id": "fKV3bSvEYL56"
      }
    },
    {
      "cell_type": "code",
      "source": [
        "predictions <- predict(cart_model, newdata = loan_test, type = \"class\")"
      ],
      "metadata": {
        "id": "kPI5CUQd784z"
      },
      "execution_count": null,
      "outputs": []
    },
    {
      "cell_type": "markdown",
      "source": [
        "## **Finally, I can display the decision tree model based on the prediction. As I saw earlier, FICO score had a much higher importance than debt-to-income and thus is the parent node in the tree. If the FICO score is lower than 660 then the tree stops, but if it is higher, another lead node is created based on debt-to income ratio.**"
      ],
      "metadata": {
        "id": "tv7BRdDVYY0B"
      }
    },
    {
      "cell_type": "code",
      "source": [
        "rpart.plot(cart_model, box.palette = \"auto\", shadow.col = \"gray\", nn = TRUE)"
      ],
      "metadata": {
        "colab": {
          "base_uri": "https://localhost:8080/",
          "height": 437
        },
        "id": "WPtUGinw8WKA",
        "outputId": "52d0a347-e950-494d-a339-4e53197c2070"
      },
      "execution_count": null,
      "outputs": [
        {
          "output_type": "display_data",
          "data": {
            "text/plain": [
              "plot without title"
            ],
            "image/png": "[encoded data removed]"
          },
          "metadata": {
            "image/png": {
              "width": 420,
              "height": 420
            }
          }
        }
      ]
    },
    {
      "cell_type": "markdown",
      "source": [
        "## **Lastly, here is the confusion matrix based on the predication model and based on it I can see that from the main diagonal, the amount of true positives and true negatives and much higher than the other diagonal.**"
      ],
      "metadata": {
        "id": "7ZWRYJyiZEQR"
      }
    },
    {
      "cell_type": "code",
      "source": [
        "table(predictions, loan_test$Approval)"
      ],
      "metadata": {
        "colab": {
          "base_uri": "https://localhost:8080/",
          "height": 86
        },
        "id": "FagGjdgm8CT6",
        "outputId": "c390ddd3-46be-4035-e7de-73d9dfccd6fc"
      },
      "execution_count": null,
      "outputs": [
        {
          "output_type": "display_data",
          "data": {
            "text/plain": [
              "           \n",
              "predictions FALSE  TRUE\n",
              "      FALSE 18314  1171\n",
              "      TRUE   6620 23593"
            ]
          },
          "metadata": {}
        }
      ]
    },
    {
      "cell_type": "markdown",
      "source": [
        "# ***Now on the 2nd part of problem 2, in which I will build a C5.0 model of the training and testing data.***"
      ],
      "metadata": {
        "id": "_dB6mQ2-aToq"
      }
    },
    {
      "cell_type": "markdown",
      "source": [
        "## **First, I will take the predicators and target categories and place them in input and output variables. The input varaible contains all the columns and rows of the debt-to-income and FICO score values. The output contains teh approval values.**"
      ],
      "metadata": {
        "id": "l9Zo1E94aifJ"
      }
    },
    {
      "cell_type": "code",
      "source": [
        "input <- loan_train[, 2:3]\n",
        "output <- loan_train$Approval\n",
        "summary(input)"
      ],
      "metadata": {
        "id": "VRdXefAEu53P",
        "colab": {
          "base_uri": "https://localhost:8080/",
          "height": 139
        },
        "outputId": "9b72bd2b-cd6c-4a48-af40-bef272d7a4ae"
      },
      "execution_count": null,
      "outputs": [
        {
          "output_type": "display_data",
          "data": {
            "text/plain": [
              " Debt-to-Income Ratio   FICO Score \n",
              " Min.   :0.0000       Min.   :371  \n",
              " 1st Qu.:0.0900       1st Qu.:647  \n",
              " Median :0.1600       Median :684  \n",
              " Mean   :0.1835       Mean   :672  \n",
              " 3rd Qu.:0.2400       3rd Qu.:714  \n",
              " Max.   :1.0300       Max.   :869  "
            ]
          },
          "metadata": {}
        }
      ]
    },
    {
      "cell_type": "markdown",
      "source": [
        "## **The C5 model requires an outcome variable that is a factor so I want to make sure I have the correct variable for output.**"
      ],
      "metadata": {
        "id": "FJb_Qv_fbUgZ"
      }
    },
    {
      "cell_type": "code",
      "source": [
        "str(output)\n",
        "summary(output)"
      ],
      "metadata": {
        "colab": {
          "base_uri": "https://localhost:8080/",
          "height": 52
        },
        "id": "njA7_2rDrGXK",
        "outputId": "2dc461b3-4624-4681-c131-7e90594919ef"
      },
      "execution_count": null,
      "outputs": [
        {
          "output_type": "stream",
          "name": "stdout",
          "text": [
            " Factor w/ 2 levels \"FALSE\",\"TRUE\": 1 1 1 1 1 1 1 1 1 1 ...\n"
          ]
        },
        {
          "output_type": "display_data",
          "data": {
            "text/html": [
              "<style>\n",
              ".dl-inline {width: auto; margin:0; padding: 0}\n",
              ".dl-inline>dt, .dl-inline>dd {float: none; width: auto; display: inline-block}\n",
              ".dl-inline>dt::after {content: \":\\0020\"; padding-right: .5ex}\n",
              ".dl-inline>dt:not(:first-of-type) {padding-left: .5ex}\n",
              "</style><dl class=dl-inline><dt>FALSE</dt><dd>75066</dd><dt>TRUE</dt><dd>75236</dd></dl>\n"
            ],
            "text/markdown": "FALSE\n:   75066TRUE\n:   75236\n\n",
            "text/latex": "\\begin{description*}\n\\item[FALSE] 75066\n\\item[TRUE] 75236\n\\end{description*}\n",
            "text/plain": [
              "FALSE  TRUE \n",
              "75066 75236 "
            ]
          },
          "metadata": {}
        }
      ]
    },
    {
      "cell_type": "markdown",
      "source": [
        "## **After making sure the input and output variables are correct, I can build the C5.0 model and make sure that there is a minimal cases of 1000 per terminal node.**"
      ],
      "metadata": {
        "id": "jjASrFePbifp"
      }
    },
    {
      "cell_type": "code",
      "source": [
        "C5model <- C5.0(input, output, control = C5.0Control(noGlobalPruning = FALSE, minCases=1000))\n",
        "summary(C5model)"
      ],
      "metadata": {
        "id": "o5CKCvvU6mOv",
        "colab": {
          "base_uri": "https://localhost:8080/",
          "height": 937
        },
        "outputId": "7a7a454d-3937-42e7-f4fd-01f1ba693103"
      },
      "execution_count": null,
      "outputs": [
        {
          "output_type": "display_data",
          "data": {
            "text/plain": [
              "\n",
              "Call:\n",
              "C5.0.default(x = input, y = output, control = C5.0Control(noGlobalPruning\n",
              " = FALSE, minCases = 1000))\n",
              "\n",
              "\n",
              "C5.0 [Release 2.07 GPL Edition]  \tMon Dec 11 00:50:49 2023\n",
              "-------------------------------\n",
              "\n",
              "Class specified by attribute `outcome'\n",
              "\n",
              "Read 150302 cases (3 attributes) from undefined.data\n",
              "\n",
              "Decision tree:\n",
              "\n",
              "Debt-to-Income Ratio > 0.31: FALSE (19884/1160)\n",
              "Debt-to-Income Ratio <= 0.31:\n",
              ":...FICO Score <= 655: FALSE (35346/894)\n",
              "    FICO Score > 655:\n",
              "    :...FICO Score <= 669:\n",
              "        :...FICO Score <= 661: FALSE (3827/1547)\n",
              "        :   FICO Score > 661: TRUE (6858/2622)\n",
              "        FICO Score > 669:\n",
              "        :...Debt-to-Income Ratio <= 0.25: TRUE (75846/13356)\n",
              "            Debt-to-Income Ratio > 0.25:\n",
              "            :...Debt-to-Income Ratio <= 0.27: TRUE (3369/1144)\n",
              "                Debt-to-Income Ratio > 0.27:\n",
              "                :...Debt-to-Income Ratio <= 0.29: TRUE (2865/1275)\n",
              "                    Debt-to-Income Ratio > 0.29: FALSE (2307/1094)\n",
              "\n",
              "\n",
              "Evaluation on training data (150302 cases):\n",
              "\n",
              "\t    Decision Tree   \n",
              "\t  ----------------  \n",
              "\t  Size      Errors  \n",
              "\n",
              "\t     8 23092(15.4%)   <<\n",
              "\n",
              "\n",
              "\t   (a)   (b)    <-classified as\n",
              "\t  ----  ----\n",
              "\t 56669 18397    (a): class FALSE\n",
              "\t  4695 70541    (b): class TRUE\n",
              "\n",
              "\n",
              "\tAttribute usage:\n",
              "\n",
              "\t100.00%\tDebt-to-Income Ratio\n",
              "\t 86.77%\tFICO Score\n",
              "\n",
              "\n",
              "Time: 0.2 secs\n"
            ]
          },
          "metadata": {}
        }
      ]
    },
    {
      "cell_type": "markdown",
      "source": [
        "## **Here is where the model *should be*, however, I cannot fix the error so I will still examine what the tree should show from the summary. The first split in this tree is based on whether the Debt-to-income ratio is less than or greater than or equal to 0.31. After that, the tree has a decision to split on whether the FICO score is equal or less than 669 or greater than 669. The tree grows out to 8 nodes.**"
      ],
      "metadata": {
        "id": "QJwR1DPUbzxR"
      }
    },
    {
      "cell_type": "code",
      "source": [
        "#plot(C5model, main=\"C5.0 Decision Tree - Pruned\")"
      ],
      "metadata": {
        "id": "RTPOIhtz1KgS"
      },
      "execution_count": null,
      "outputs": []
    },
    {
      "cell_type": "markdown",
      "source": [
        "## **Here I am making the prediciton for the testing data on the C5 model.**"
      ],
      "metadata": {
        "id": "lNr8V9bygmbn"
      }
    },
    {
      "cell_type": "code",
      "source": [
        "newdata <- loan_test[,c(1:3)]\n",
        "\n",
        "prediction <- predict(C5model, newdata, type=\"class\")"
      ],
      "metadata": {
        "id": "sxpbnup1xr4U"
      },
      "execution_count": null,
      "outputs": []
    },
    {
      "cell_type": "markdown",
      "source": [
        "## **Lastly, I use a confusion matrix on the predication. It is fairly simliar to the results obtained from the CART model.**"
      ],
      "metadata": {
        "id": "bkTjg_2ogswI"
      }
    },
    {
      "cell_type": "code",
      "source": [
        "table(prediction, loan_test$Approval)"
      ],
      "metadata": {
        "colab": {
          "base_uri": "https://localhost:8080/",
          "height": 86
        },
        "id": "PuUIASL353so",
        "outputId": "b2864583-7946-43aa-c3e6-233a41ffd74c"
      },
      "execution_count": null,
      "outputs": [
        {
          "output_type": "display_data",
          "data": {
            "text/plain": [
              "          \n",
              "prediction FALSE  TRUE\n",
              "     FALSE 18742  1559\n",
              "     TRUE   6192 23205"
            ]
          },
          "metadata": {}
        }
      ]
    },
    {
      "cell_type": "markdown",
      "source": [
        "# ***Similarities and Differences***"
      ],
      "metadata": {
        "id": "ddsecXRRecI4"
      }
    },
    {
      "cell_type": "markdown",
      "source": [
        "## **One immediate difference between the two model are the parent nodes of each. For the CART model the parent node was split based on the FICO score because of the importance it gave it. The C5 model found the Debt-to-income variable to be more important. Another difference is the amount of nodes created from the trees The C5 model had a length of 8 while the CART model stopped at 7 according to the summary. Despite the difference they both closely the same results for the confusion matrixes**"
      ],
      "metadata": {
        "id": "AFLouChTefhI"
      }
    },
    {
      "cell_type": "markdown",
      "source": [
        "## **They should be close, as the only difference between the two models is the way they measure pruity. CART uses Gini index while C5 uses entropy and when we look at a graph of entropy and Gini, we see that Gini represents the same data of entropy, but on a smaller scale. Thus the results of the confusion matrix of both model being similar make sense.**"
      ],
      "metadata": {
        "id": "_hD-Lq0nh1VH"
      }
    }
  ]
}
{
  "nbformat": 4,
  "nbformat_minor": 0,
  "metadata": {
    "colab": {
      "provenance": []
    },
    "kernelspec": {
      "name": "python3",
      "display_name": "Python 3"
    },
    "language_info": {
      "name": "python"
    }
  },
  "cells": [
    {
      "cell_type": "markdown",
      "source": [
        "# **Rani Son**"
      ],
      "metadata": {
        "id": "3CNIwsfEK0es"
      }
    },
    {
      "cell_type": "markdown",
      "source": [
        "## Firstly, I want to import some libraries that I will need for Analysis"
      ],
      "metadata": {
        "id": "vNYWjTAdK2gi"
      }
    },
    {
      "cell_type": "code",
      "source": [
        "import pandas as pd\n",
        "import numpy as np\n",
        "from tabulate import tabulate"
      ],
      "metadata": {
        "id": "CdWbX3X59Ngu"
      },
      "execution_count": 158,
      "outputs": []
    },
    {
      "cell_type": "markdown",
      "source": [
        "## **Then, after importing the alcohol database, I want a view of it.**"
      ],
      "metadata": {
        "id": "aIH8hO9WMDct"
      }
    },
    {
      "cell_type": "code",
      "execution_count": 159,
      "metadata": {
        "id": "n_3bAv005C-E"
      },
      "outputs": [],
      "source": [
        "url = \"https://raw.githubusercontent.com/bforoura/IDS/main/HW5/wine_flag_all.csv\"\n",
        "alcohol_df = pd.read_csv(url, sep=\",\")"
      ]
    },
    {
      "cell_type": "code",
      "source": [
        "alcohol_df"
      ],
      "metadata": {
        "colab": {
          "base_uri": "https://localhost:8080/",
          "height": 423
        },
        "id": "sLBAPqae9YMk",
        "outputId": "3b8c7040-f95d-4f60-fd7f-7750bf664fc9"
      },
      "execution_count": 160,
      "outputs": [
        {
          "output_type": "execute_result",
          "data": {
            "text/plain": [
              "       Type Alcohol_flag Sugar_flag\n",
              "0       Red         High       High\n",
              "1       Red         High        Low\n",
              "2       Red          Low       High\n",
              "3       Red         High        Low\n",
              "4       Red          Low        Low\n",
              "...     ...          ...        ...\n",
              "3340  White         High       High\n",
              "3341  White         High        Low\n",
              "3342  White         High        Low\n",
              "3343  White         High        Low\n",
              "3344  White         High        Low\n",
              "\n",
              "[3345 rows x 3 columns]"
            ],
            "text/html": [
              "\n",
              "  <div id=\"df-c1e77cb1-4a5d-4f36-a13b-11d728ad888c\" class=\"colab-df-container\">\n",
              "    <div>\n",
              "<style scoped>\n",
              "    .dataframe tbody tr th:only-of-type {\n",
              "        vertical-align: middle;\n",
              "    }\n",
              "\n",
              "    .dataframe tbody tr th {\n",
              "        vertical-align: top;\n",
              "    }\n",
              "\n",
              "    .dataframe thead th {\n",
              "        text-align: right;\n",
              "    }\n",
              "</style>\n",
              "<table border=\"1\" class=\"dataframe\">\n",
              "  <thead>\n",
              "    <tr style=\"text-align: right;\">\n",
              "      <th></th>\n",
              "      <th>Type</th>\n",
              "      <th>Alcohol_flag</th>\n",
              "      <th>Sugar_flag</th>\n",
              "    </tr>\n",
              "  </thead>\n",
              "  <tbody>\n",
              "    <tr>\n",
              "      <th>0</th>\n",
              "      <td>Red</td>\n",
              "      <td>High</td>\n",
              "      <td>High</td>\n",
              "    </tr>\n",
              "    <tr>\n",
              "      <th>1</th>\n",
              "      <td>Red</td>\n",
              "      <td>High</td>\n",
              "      <td>Low</td>\n",
              "    </tr>\n",
              "    <tr>\n",
              "      <th>2</th>\n",
              "      <td>Red</td>\n",
              "      <td>Low</td>\n",
              "      <td>High</td>\n",
              "    </tr>\n",
              "    <tr>\n",
              "      <th>3</th>\n",
              "      <td>Red</td>\n",
              "      <td>High</td>\n",
              "      <td>Low</td>\n",
              "    </tr>\n",
              "    <tr>\n",
              "      <th>4</th>\n",
              "      <td>Red</td>\n",
              "      <td>Low</td>\n",
              "      <td>Low</td>\n",
              "    </tr>\n",
              "    <tr>\n",
              "      <th>...</th>\n",
              "      <td>...</td>\n",
              "      <td>...</td>\n",
              "      <td>...</td>\n",
              "    </tr>\n",
              "    <tr>\n",
              "      <th>3340</th>\n",
              "      <td>White</td>\n",
              "      <td>High</td>\n",
              "      <td>High</td>\n",
              "    </tr>\n",
              "    <tr>\n",
              "      <th>3341</th>\n",
              "      <td>White</td>\n",
              "      <td>High</td>\n",
              "      <td>Low</td>\n",
              "    </tr>\n",
              "    <tr>\n",
              "      <th>3342</th>\n",
              "      <td>White</td>\n",
              "      <td>High</td>\n",
              "      <td>Low</td>\n",
              "    </tr>\n",
              "    <tr>\n",
              "      <th>3343</th>\n",
              "      <td>White</td>\n",
              "      <td>High</td>\n",
              "      <td>Low</td>\n",
              "    </tr>\n",
              "    <tr>\n",
              "      <th>3344</th>\n",
              "      <td>White</td>\n",
              "      <td>High</td>\n",
              "      <td>Low</td>\n",
              "    </tr>\n",
              "  </tbody>\n",
              "</table>\n",
              "<p>3345 rows × 3 columns</p>\n",
              "</div>\n",
              "    <div class=\"colab-df-buttons\">\n",
              "\n",
              "  <div class=\"colab-df-container\">\n",
              "    <button class=\"colab-df-convert\" onclick=\"convertToInteractive('df-c1e77cb1-4a5d-4f36-a13b-11d728ad888c')\"\n",
              "            title=\"Convert this dataframe to an interactive table.\"\n",
              "            style=\"display:none;\">\n",
              "\n",
              "  <svg xmlns=\"http://www.w3.org/2000/svg\" height=\"24px\" viewBox=\"0 -960 960 960\">\n",
              "    <path d=\"M120-120v-720h720v720H120Zm60-500h600v-160H180v160Zm220 220h160v-160H400v160Zm0 220h160v-160H400v160ZM180-400h160v-160H180v160Zm440 0h160v-160H620v160ZM180-180h160v-160H180v160Zm440 0h160v-160H620v160Z\"/>\n",
              "  </svg>\n",
              "    </button>\n",
              "\n",
              "  <style>\n",
              "    .colab-df-container {\n",
              "      display:flex;\n",
              "      gap: 12px;\n",
              "    }\n",
              "\n",
              "    .colab-df-convert {\n",
              "      background-color: #E8F0FE;\n",
              "      border: none;\n",
              "      border-radius: 50%;\n",
              "      cursor: pointer;\n",
              "      display: none;\n",
              "      fill: #1967D2;\n",
              "      height: 32px;\n",
              "      padding: 0 0 0 0;\n",
              "      width: 32px;\n",
              "    }\n",
              "\n",
              "    .colab-df-convert:hover {\n",
              "      background-color: #E2EBFA;\n",
              "      box-shadow: 0px 1px 2px rgba(60, 64, 67, 0.3), 0px 1px 3px 1px rgba(60, 64, 67, 0.15);\n",
              "      fill: #174EA6;\n",
              "    }\n",
              "\n",
              "    .colab-df-buttons div {\n",
              "      margin-bottom: 4px;\n",
              "    }\n",
              "\n",
              "    [theme=dark] .colab-df-convert {\n",
              "      background-color: #3B4455;\n",
              "      fill: #D2E3FC;\n",
              "    }\n",
              "\n",
              "    [theme=dark] .colab-df-convert:hover {\n",
              "      background-color: #434B5C;\n",
              "      box-shadow: 0px 1px 3px 1px rgba(0, 0, 0, 0.15);\n",
              "      filter: drop-shadow(0px 1px 2px rgba(0, 0, 0, 0.3));\n",
              "      fill: #FFFFFF;\n",
              "    }\n",
              "  </style>\n",
              "\n",
              "    <script>\n",
              "      const buttonEl =\n",
              "        document.querySelector('#df-c1e77cb1-4a5d-4f36-a13b-11d728ad888c button.colab-df-convert');\n",
              "      buttonEl.style.display =\n",
              "        google.colab.kernel.accessAllowed ? 'block' : 'none';\n",
              "\n",
              "      async function convertToInteractive(key) {\n",
              "        const element = document.querySelector('#df-c1e77cb1-4a5d-4f36-a13b-11d728ad888c');\n",
              "        const dataTable =\n",
              "          await google.colab.kernel.invokeFunction('convertToInteractive',\n",
              "                                                    [key], {});\n",
              "        if (!dataTable) return;\n",
              "\n",
              "        const docLinkHtml = 'Like what you see? Visit the ' +\n",
              "          '<a target=\"_blank\" href=https://colab.research.google.com/notebooks/data_table.ipynb>data table notebook</a>'\n",
              "          + ' to learn more about interactive tables.';\n",
              "        element.innerHTML = '';\n",
              "        dataTable['output_type'] = 'display_data';\n",
              "        await google.colab.output.renderOutput(dataTable, element);\n",
              "        const docLink = document.createElement('div');\n",
              "        docLink.innerHTML = docLinkHtml;\n",
              "        element.appendChild(docLink);\n",
              "      }\n",
              "    </script>\n",
              "  </div>\n",
              "\n",
              "\n",
              "<div id=\"df-ed4bea57-2936-4d2a-8ac9-a0161c3daa31\">\n",
              "  <button class=\"colab-df-quickchart\" onclick=\"quickchart('df-ed4bea57-2936-4d2a-8ac9-a0161c3daa31')\"\n",
              "            title=\"Suggest charts\"\n",
              "            style=\"display:none;\">\n",
              "\n",
              "<svg xmlns=\"http://www.w3.org/2000/svg\" height=\"24px\"viewBox=\"0 0 24 24\"\n",
              "     width=\"24px\">\n",
              "    <g>\n",
              "        <path d=\"M19 3H5c-1.1 0-2 .9-2 2v14c0 1.1.9 2 2 2h14c1.1 0 2-.9 2-2V5c0-1.1-.9-2-2-2zM9 17H7v-7h2v7zm4 0h-2V7h2v10zm4 0h-2v-4h2v4z\"/>\n",
              "    </g>\n",
              "</svg>\n",
              "  </button>\n",
              "\n",
              "<style>\n",
              "  .colab-df-quickchart {\n",
              "      --bg-color: #E8F0FE;\n",
              "      --fill-color: #1967D2;\n",
              "      --hover-bg-color: #E2EBFA;\n",
              "      --hover-fill-color: #174EA6;\n",
              "      --disabled-fill-color: #AAA;\n",
              "      --disabled-bg-color: #DDD;\n",
              "  }\n",
              "\n",
              "  [theme=dark] .colab-df-quickchart {\n",
              "      --bg-color: #3B4455;\n",
              "      --fill-color: #D2E3FC;\n",
              "      --hover-bg-color: #434B5C;\n",
              "      --hover-fill-color: #FFFFFF;\n",
              "      --disabled-bg-color: #3B4455;\n",
              "      --disabled-fill-color: #666;\n",
              "  }\n",
              "\n",
              "  .colab-df-quickchart {\n",
              "    background-color: var(--bg-color);\n",
              "    border: none;\n",
              "    border-radius: 50%;\n",
              "    cursor: pointer;\n",
              "    display: none;\n",
              "    fill: var(--fill-color);\n",
              "    height: 32px;\n",
              "    padding: 0;\n",
              "    width: 32px;\n",
              "  }\n",
              "\n",
              "  .colab-df-quickchart:hover {\n",
              "    background-color: var(--hover-bg-color);\n",
              "    box-shadow: 0 1px 2px rgba(60, 64, 67, 0.3), 0 1px 3px 1px rgba(60, 64, 67, 0.15);\n",
              "    fill: var(--button-hover-fill-color);\n",
              "  }\n",
              "\n",
              "  .colab-df-quickchart-complete:disabled,\n",
              "  .colab-df-quickchart-complete:disabled:hover {\n",
              "    background-color: var(--disabled-bg-color);\n",
              "    fill: var(--disabled-fill-color);\n",
              "    box-shadow: none;\n",
              "  }\n",
              "\n",
              "  .colab-df-spinner {\n",
              "    border: 2px solid var(--fill-color);\n",
              "    border-color: transparent;\n",
              "    border-bottom-color: var(--fill-color);\n",
              "    animation:\n",
              "      spin 1s steps(1) infinite;\n",
              "  }\n",
              "\n",
              "  @keyframes spin {\n",
              "    0% {\n",
              "      border-color: transparent;\n",
              "      border-bottom-color: var(--fill-color);\n",
              "      border-left-color: var(--fill-color);\n",
              "    }\n",
              "    20% {\n",
              "      border-color: transparent;\n",
              "      border-left-color: var(--fill-color);\n",
              "      border-top-color: var(--fill-color);\n",
              "    }\n",
              "    30% {\n",
              "      border-color: transparent;\n",
              "      border-left-color: var(--fill-color);\n",
              "      border-top-color: var(--fill-color);\n",
              "      border-right-color: var(--fill-color);\n",
              "    }\n",
              "    40% {\n",
              "      border-color: transparent;\n",
              "      border-right-color: var(--fill-color);\n",
              "      border-top-color: var(--fill-color);\n",
              "    }\n",
              "    60% {\n",
              "      border-color: transparent;\n",
              "      border-right-color: var(--fill-color);\n",
              "    }\n",
              "    80% {\n",
              "      border-color: transparent;\n",
              "      border-right-color: var(--fill-color);\n",
              "      border-bottom-color: var(--fill-color);\n",
              "    }\n",
              "    90% {\n",
              "      border-color: transparent;\n",
              "      border-bottom-color: var(--fill-color);\n",
              "    }\n",
              "  }\n",
              "</style>\n",
              "\n",
              "  <script>\n",
              "    async function quickchart(key) {\n",
              "      const quickchartButtonEl =\n",
              "        document.querySelector('#' + key + ' button');\n",
              "      quickchartButtonEl.disabled = true;  // To prevent multiple clicks.\n",
              "      quickchartButtonEl.classList.add('colab-df-spinner');\n",
              "      try {\n",
              "        const charts = await google.colab.kernel.invokeFunction(\n",
              "            'suggestCharts', [key], {});\n",
              "      } catch (error) {\n",
              "        console.error('Error during call to suggestCharts:', error);\n",
              "      }\n",
              "      quickchartButtonEl.classList.remove('colab-df-spinner');\n",
              "      quickchartButtonEl.classList.add('colab-df-quickchart-complete');\n",
              "    }\n",
              "    (() => {\n",
              "      let quickchartButtonEl =\n",
              "        document.querySelector('#df-ed4bea57-2936-4d2a-8ac9-a0161c3daa31 button');\n",
              "      quickchartButtonEl.style.display =\n",
              "        google.colab.kernel.accessAllowed ? 'block' : 'none';\n",
              "    })();\n",
              "  </script>\n",
              "</div>\n",
              "    </div>\n",
              "  </div>\n"
            ]
          },
          "metadata": {},
          "execution_count": 160
        }
      ]
    },
    {
      "cell_type": "markdown",
      "source": [
        "## **Before doing any testing, I want to check for any missing values and inpute if nesscessary.**"
      ],
      "metadata": {
        "id": "TWHS6IFoMVNP"
      }
    },
    {
      "cell_type": "code",
      "source": [
        "alcohol_df.Type.isnull().sum"
      ],
      "metadata": {
        "colab": {
          "base_uri": "https://localhost:8080/"
        },
        "id": "naNCD973TdHT",
        "outputId": "a02e36f0-abf2-489b-fee0-323e87ed9859"
      },
      "execution_count": 161,
      "outputs": [
        {
          "output_type": "execute_result",
          "data": {
            "text/plain": [
              "<bound method NDFrame._add_numeric_operations.<locals>.sum of 0       False\n",
              "1       False\n",
              "2       False\n",
              "3       False\n",
              "4       False\n",
              "        ...  \n",
              "3340    False\n",
              "3341    False\n",
              "3342    False\n",
              "3343    False\n",
              "3344    False\n",
              "Name: Type, Length: 3345, dtype: bool>"
            ]
          },
          "metadata": {},
          "execution_count": 161
        }
      ]
    },
    {
      "cell_type": "markdown",
      "source": [
        "## **After checking there appears to be no missing values, but I will also check each column individually to double check.**"
      ],
      "metadata": {
        "id": "vt6BnDwqM1vt"
      }
    },
    {
      "cell_type": "code",
      "source": [
        "alcohol_df.Alcohol_flag.isnull().sum"
      ],
      "metadata": {
        "colab": {
          "base_uri": "https://localhost:8080/"
        },
        "id": "C3No1LobTwrq",
        "outputId": "baad47d7-f106-43f5-c0a0-7a5b41623894"
      },
      "execution_count": 162,
      "outputs": [
        {
          "output_type": "execute_result",
          "data": {
            "text/plain": [
              "<bound method NDFrame._add_numeric_operations.<locals>.sum of 0       False\n",
              "1       False\n",
              "2       False\n",
              "3       False\n",
              "4       False\n",
              "        ...  \n",
              "3340    False\n",
              "3341    False\n",
              "3342    False\n",
              "3343    False\n",
              "3344    False\n",
              "Name: Alcohol_flag, Length: 3345, dtype: bool>"
            ]
          },
          "metadata": {},
          "execution_count": 162
        }
      ]
    },
    {
      "cell_type": "code",
      "source": [
        "alcohol_df.Sugar_flag.isnull().sum"
      ],
      "metadata": {
        "colab": {
          "base_uri": "https://localhost:8080/"
        },
        "id": "oLdHFZHOT1BX",
        "outputId": "485a5c99-37ea-4ad3-f9d4-55c1fce89017"
      },
      "execution_count": 163,
      "outputs": [
        {
          "output_type": "execute_result",
          "data": {
            "text/plain": [
              "<bound method NDFrame._add_numeric_operations.<locals>.sum of 0       False\n",
              "1       False\n",
              "2       False\n",
              "3       False\n",
              "4       False\n",
              "        ...  \n",
              "3340    False\n",
              "3341    False\n",
              "3342    False\n",
              "3343    False\n",
              "3344    False\n",
              "Name: Sugar_flag, Length: 3345, dtype: bool>"
            ]
          },
          "metadata": {},
          "execution_count": 163
        }
      ]
    },
    {
      "cell_type": "markdown",
      "source": [
        "## **Again, there were no missing values, so I can now move on to encoding all categoric data and creating contingency tables.**"
      ],
      "metadata": {
        "id": "uF4bMG9pNMEp"
      }
    },
    {
      "cell_type": "code",
      "source": [
        "from sklearn import preprocessing\n",
        "le = preprocessing.LabelEncoder()\n",
        "\n",
        "encoded_alcoholDF = pd.DataFrame()\n",
        "\n",
        "for i in range(0, alcohol_df.shape[1]):\n",
        "    if alcohol_df.dtypes[i]=='object' or alcohol_df.dtypes[i]=='bool':\n",
        "        encoded_alcoholDF[alcohol_df.columns[i]] = le.fit_transform(alcohol_df[alcohol_df.columns[i]])\n",
        "\n",
        "\n",
        "\n",
        "print(\"-=========================\")\n",
        "print(alcohol_df)\n",
        "print(\"-=========================\")\n",
        "encoded_alcoholDF"
      ],
      "metadata": {
        "colab": {
          "base_uri": "https://localhost:8080/",
          "height": 701
        },
        "id": "o2JTx44sXJIM",
        "outputId": "f7193f3f-64f2-493f-b9a5-fac8da2ce69e"
      },
      "execution_count": 164,
      "outputs": [
        {
          "output_type": "stream",
          "name": "stdout",
          "text": [
            "-=========================\n",
            "       Type Alcohol_flag Sugar_flag\n",
            "0       Red         High       High\n",
            "1       Red         High        Low\n",
            "2       Red          Low       High\n",
            "3       Red         High        Low\n",
            "4       Red          Low        Low\n",
            "...     ...          ...        ...\n",
            "3340  White         High       High\n",
            "3341  White         High        Low\n",
            "3342  White         High        Low\n",
            "3343  White         High        Low\n",
            "3344  White         High        Low\n",
            "\n",
            "[3345 rows x 3 columns]\n",
            "-=========================\n"
          ]
        },
        {
          "output_type": "execute_result",
          "data": {
            "text/plain": [
              "      Type  Alcohol_flag  Sugar_flag\n",
              "0        0             0           0\n",
              "1        0             0           1\n",
              "2        0             1           0\n",
              "3        0             0           1\n",
              "4        0             1           1\n",
              "...    ...           ...         ...\n",
              "3340     1             0           0\n",
              "3341     1             0           1\n",
              "3342     1             0           1\n",
              "3343     1             0           1\n",
              "3344     1             0           1\n",
              "\n",
              "[3345 rows x 3 columns]"
            ],
            "text/html": [
              "\n",
              "  <div id=\"df-9ee1963f-e483-4886-b6f1-9f6bb5645e8e\" class=\"colab-df-container\">\n",
              "    <div>\n",
              "<style scoped>\n",
              "    .dataframe tbody tr th:only-of-type {\n",
              "        vertical-align: middle;\n",
              "    }\n",
              "\n",
              "    .dataframe tbody tr th {\n",
              "        vertical-align: top;\n",
              "    }\n",
              "\n",
              "    .dataframe thead th {\n",
              "        text-align: right;\n",
              "    }\n",
              "</style>\n",
              "<table border=\"1\" class=\"dataframe\">\n",
              "  <thead>\n",
              "    <tr style=\"text-align: right;\">\n",
              "      <th></th>\n",
              "      <th>Type</th>\n",
              "      <th>Alcohol_flag</th>\n",
              "      <th>Sugar_flag</th>\n",
              "    </tr>\n",
              "  </thead>\n",
              "  <tbody>\n",
              "    <tr>\n",
              "      <th>0</th>\n",
              "      <td>0</td>\n",
              "      <td>0</td>\n",
              "      <td>0</td>\n",
              "    </tr>\n",
              "    <tr>\n",
              "      <th>1</th>\n",
              "      <td>0</td>\n",
              "      <td>0</td>\n",
              "      <td>1</td>\n",
              "    </tr>\n",
              "    <tr>\n",
              "      <th>2</th>\n",
              "      <td>0</td>\n",
              "      <td>1</td>\n",
              "      <td>0</td>\n",
              "    </tr>\n",
              "    <tr>\n",
              "      <th>3</th>\n",
              "      <td>0</td>\n",
              "      <td>0</td>\n",
              "      <td>1</td>\n",
              "    </tr>\n",
              "    <tr>\n",
              "      <th>4</th>\n",
              "      <td>0</td>\n",
              "      <td>1</td>\n",
              "      <td>1</td>\n",
              "    </tr>\n",
              "    <tr>\n",
              "      <th>...</th>\n",
              "      <td>...</td>\n",
              "      <td>...</td>\n",
              "      <td>...</td>\n",
              "    </tr>\n",
              "    <tr>\n",
              "      <th>3340</th>\n",
              "      <td>1</td>\n",
              "      <td>0</td>\n",
              "      <td>0</td>\n",
              "    </tr>\n",
              "    <tr>\n",
              "      <th>3341</th>\n",
              "      <td>1</td>\n",
              "      <td>0</td>\n",
              "      <td>1</td>\n",
              "    </tr>\n",
              "    <tr>\n",
              "      <th>3342</th>\n",
              "      <td>1</td>\n",
              "      <td>0</td>\n",
              "      <td>1</td>\n",
              "    </tr>\n",
              "    <tr>\n",
              "      <th>3343</th>\n",
              "      <td>1</td>\n",
              "      <td>0</td>\n",
              "      <td>1</td>\n",
              "    </tr>\n",
              "    <tr>\n",
              "      <th>3344</th>\n",
              "      <td>1</td>\n",
              "      <td>0</td>\n",
              "      <td>1</td>\n",
              "    </tr>\n",
              "  </tbody>\n",
              "</table>\n",
              "<p>3345 rows × 3 columns</p>\n",
              "</div>\n",
              "    <div class=\"colab-df-buttons\">\n",
              "\n",
              "  <div class=\"colab-df-container\">\n",
              "    <button class=\"colab-df-convert\" onclick=\"convertToInteractive('df-9ee1963f-e483-4886-b6f1-9f6bb5645e8e')\"\n",
              "            title=\"Convert this dataframe to an interactive table.\"\n",
              "            style=\"display:none;\">\n",
              "\n",
              "  <svg xmlns=\"http://www.w3.org/2000/svg\" height=\"24px\" viewBox=\"0 -960 960 960\">\n",
              "    <path d=\"M120-120v-720h720v720H120Zm60-500h600v-160H180v160Zm220 220h160v-160H400v160Zm0 220h160v-160H400v160ZM180-400h160v-160H180v160Zm440 0h160v-160H620v160ZM180-180h160v-160H180v160Zm440 0h160v-160H620v160Z\"/>\n",
              "  </svg>\n",
              "    </button>\n",
              "\n",
              "  <style>\n",
              "    .colab-df-container {\n",
              "      display:flex;\n",
              "      gap: 12px;\n",
              "    }\n",
              "\n",
              "    .colab-df-convert {\n",
              "      background-color: #E8F0FE;\n",
              "      border: none;\n",
              "      border-radius: 50%;\n",
              "      cursor: pointer;\n",
              "      display: none;\n",
              "      fill: #1967D2;\n",
              "      height: 32px;\n",
              "      padding: 0 0 0 0;\n",
              "      width: 32px;\n",
              "    }\n",
              "\n",
              "    .colab-df-convert:hover {\n",
              "      background-color: #E2EBFA;\n",
              "      box-shadow: 0px 1px 2px rgba(60, 64, 67, 0.3), 0px 1px 3px 1px rgba(60, 64, 67, 0.15);\n",
              "      fill: #174EA6;\n",
              "    }\n",
              "\n",
              "    .colab-df-buttons div {\n",
              "      margin-bottom: 4px;\n",
              "    }\n",
              "\n",
              "    [theme=dark] .colab-df-convert {\n",
              "      background-color: #3B4455;\n",
              "      fill: #D2E3FC;\n",
              "    }\n",
              "\n",
              "    [theme=dark] .colab-df-convert:hover {\n",
              "      background-color: #434B5C;\n",
              "      box-shadow: 0px 1px 3px 1px rgba(0, 0, 0, 0.15);\n",
              "      filter: drop-shadow(0px 1px 2px rgba(0, 0, 0, 0.3));\n",
              "      fill: #FFFFFF;\n",
              "    }\n",
              "  </style>\n",
              "\n",
              "    <script>\n",
              "      const buttonEl =\n",
              "        document.querySelector('#df-9ee1963f-e483-4886-b6f1-9f6bb5645e8e button.colab-df-convert');\n",
              "      buttonEl.style.display =\n",
              "        google.colab.kernel.accessAllowed ? 'block' : 'none';\n",
              "\n",
              "      async function convertToInteractive(key) {\n",
              "        const element = document.querySelector('#df-9ee1963f-e483-4886-b6f1-9f6bb5645e8e');\n",
              "        const dataTable =\n",
              "          await google.colab.kernel.invokeFunction('convertToInteractive',\n",
              "                                                    [key], {});\n",
              "        if (!dataTable) return;\n",
              "\n",
              "        const docLinkHtml = 'Like what you see? Visit the ' +\n",
              "          '<a target=\"_blank\" href=https://colab.research.google.com/notebooks/data_table.ipynb>data table notebook</a>'\n",
              "          + ' to learn more about interactive tables.';\n",
              "        element.innerHTML = '';\n",
              "        dataTable['output_type'] = 'display_data';\n",
              "        await google.colab.output.renderOutput(dataTable, element);\n",
              "        const docLink = document.createElement('div');\n",
              "        docLink.innerHTML = docLinkHtml;\n",
              "        element.appendChild(docLink);\n",
              "      }\n",
              "    </script>\n",
              "  </div>\n",
              "\n",
              "\n",
              "<div id=\"df-00b8a377-f385-4b3d-910f-9710ed7acc0a\">\n",
              "  <button class=\"colab-df-quickchart\" onclick=\"quickchart('df-00b8a377-f385-4b3d-910f-9710ed7acc0a')\"\n",
              "            title=\"Suggest charts\"\n",
              "            style=\"display:none;\">\n",
              "\n",
              "<svg xmlns=\"http://www.w3.org/2000/svg\" height=\"24px\"viewBox=\"0 0 24 24\"\n",
              "     width=\"24px\">\n",
              "    <g>\n",
              "        <path d=\"M19 3H5c-1.1 0-2 .9-2 2v14c0 1.1.9 2 2 2h14c1.1 0 2-.9 2-2V5c0-1.1-.9-2-2-2zM9 17H7v-7h2v7zm4 0h-2V7h2v10zm4 0h-2v-4h2v4z\"/>\n",
              "    </g>\n",
              "</svg>\n",
              "  </button>\n",
              "\n",
              "<style>\n",
              "  .colab-df-quickchart {\n",
              "      --bg-color: #E8F0FE;\n",
              "      --fill-color: #1967D2;\n",
              "      --hover-bg-color: #E2EBFA;\n",
              "      --hover-fill-color: #174EA6;\n",
              "      --disabled-fill-color: #AAA;\n",
              "      --disabled-bg-color: #DDD;\n",
              "  }\n",
              "\n",
              "  [theme=dark] .colab-df-quickchart {\n",
              "      --bg-color: #3B4455;\n",
              "      --fill-color: #D2E3FC;\n",
              "      --hover-bg-color: #434B5C;\n",
              "      --hover-fill-color: #FFFFFF;\n",
              "      --disabled-bg-color: #3B4455;\n",
              "      --disabled-fill-color: #666;\n",
              "  }\n",
              "\n",
              "  .colab-df-quickchart {\n",
              "    background-color: var(--bg-color);\n",
              "    border: none;\n",
              "    border-radius: 50%;\n",
              "    cursor: pointer;\n",
              "    display: none;\n",
              "    fill: var(--fill-color);\n",
              "    height: 32px;\n",
              "    padding: 0;\n",
              "    width: 32px;\n",
              "  }\n",
              "\n",
              "  .colab-df-quickchart:hover {\n",
              "    background-color: var(--hover-bg-color);\n",
              "    box-shadow: 0 1px 2px rgba(60, 64, 67, 0.3), 0 1px 3px 1px rgba(60, 64, 67, 0.15);\n",
              "    fill: var(--button-hover-fill-color);\n",
              "  }\n",
              "\n",
              "  .colab-df-quickchart-complete:disabled,\n",
              "  .colab-df-quickchart-complete:disabled:hover {\n",
              "    background-color: var(--disabled-bg-color);\n",
              "    fill: var(--disabled-fill-color);\n",
              "    box-shadow: none;\n",
              "  }\n",
              "\n",
              "  .colab-df-spinner {\n",
              "    border: 2px solid var(--fill-color);\n",
              "    border-color: transparent;\n",
              "    border-bottom-color: var(--fill-color);\n",
              "    animation:\n",
              "      spin 1s steps(1) infinite;\n",
              "  }\n",
              "\n",
              "  @keyframes spin {\n",
              "    0% {\n",
              "      border-color: transparent;\n",
              "      border-bottom-color: var(--fill-color);\n",
              "      border-left-color: var(--fill-color);\n",
              "    }\n",
              "    20% {\n",
              "      border-color: transparent;\n",
              "      border-left-color: var(--fill-color);\n",
              "      border-top-color: var(--fill-color);\n",
              "    }\n",
              "    30% {\n",
              "      border-color: transparent;\n",
              "      border-left-color: var(--fill-color);\n",
              "      border-top-color: var(--fill-color);\n",
              "      border-right-color: var(--fill-color);\n",
              "    }\n",
              "    40% {\n",
              "      border-color: transparent;\n",
              "      border-right-color: var(--fill-color);\n",
              "      border-top-color: var(--fill-color);\n",
              "    }\n",
              "    60% {\n",
              "      border-color: transparent;\n",
              "      border-right-color: var(--fill-color);\n",
              "    }\n",
              "    80% {\n",
              "      border-color: transparent;\n",
              "      border-right-color: var(--fill-color);\n",
              "      border-bottom-color: var(--fill-color);\n",
              "    }\n",
              "    90% {\n",
              "      border-color: transparent;\n",
              "      border-bottom-color: var(--fill-color);\n",
              "    }\n",
              "  }\n",
              "</style>\n",
              "\n",
              "  <script>\n",
              "    async function quickchart(key) {\n",
              "      const quickchartButtonEl =\n",
              "        document.querySelector('#' + key + ' button');\n",
              "      quickchartButtonEl.disabled = true;  // To prevent multiple clicks.\n",
              "      quickchartButtonEl.classList.add('colab-df-spinner');\n",
              "      try {\n",
              "        const charts = await google.colab.kernel.invokeFunction(\n",
              "            'suggestCharts', [key], {});\n",
              "      } catch (error) {\n",
              "        console.error('Error during call to suggestCharts:', error);\n",
              "      }\n",
              "      quickchartButtonEl.classList.remove('colab-df-spinner');\n",
              "      quickchartButtonEl.classList.add('colab-df-quickchart-complete');\n",
              "    }\n",
              "    (() => {\n",
              "      let quickchartButtonEl =\n",
              "        document.querySelector('#df-00b8a377-f385-4b3d-910f-9710ed7acc0a button');\n",
              "      quickchartButtonEl.style.display =\n",
              "        google.colab.kernel.accessAllowed ? 'block' : 'none';\n",
              "    })();\n",
              "  </script>\n",
              "</div>\n",
              "    </div>\n",
              "  </div>\n"
            ]
          },
          "metadata": {},
          "execution_count": 164
        }
      ]
    },
    {
      "cell_type": "markdown",
      "source": [
        "## **Here is the Contingency Table of Type Vs. Alcohol content**"
      ],
      "metadata": {
        "id": "5yd-dwCIOOzZ"
      }
    },
    {
      "cell_type": "code",
      "source": [
        "alcoholdf_crosstab = pd.crosstab(alcohol_df['Type'], alcohol_df['Alcohol_flag'], margins = 1)\n",
        "print(alcoholdf_crosstab)"
      ],
      "metadata": {
        "colab": {
          "base_uri": "https://localhost:8080/"
        },
        "id": "Bm0UWPsgYGrI",
        "outputId": "b77b529b-648c-4c39-8857-71a3d882a404"
      },
      "execution_count": 165,
      "outputs": [
        {
          "output_type": "stream",
          "name": "stdout",
          "text": [
            "Alcohol_flag  High   Low   All\n",
            "Type                          \n",
            "Red            485   600  1085\n",
            "White         1176  1084  2260\n",
            "All           1661  1684  3345\n"
          ]
        }
      ]
    },
    {
      "cell_type": "markdown",
      "source": [
        "## **This is the graph of Type Vs. Alcohol Content**"
      ],
      "metadata": {
        "id": "6w1b644qOg7K"
      }
    },
    {
      "cell_type": "code",
      "source": [
        "barplot = alcoholdf_crosstab.plot.bar(rot=0)"
      ],
      "metadata": {
        "colab": {
          "base_uri": "https://localhost:8080/",
          "height": 454
        },
        "id": "VydNMds1YgMw",
        "outputId": "64b4c52c-c335-46ed-bbaa-313b9aec6abb"
      },
      "execution_count": 166,
      "outputs": [
        {
          "output_type": "display_data",
          "data": {
            "text/plain": [
              "<Figure size 640x480 with 1 Axes>"
            ],
            "image/png": "[encoded data removed]"
          },
          "metadata": {}
        }
      ]
    },
    {
      "cell_type": "markdown",
      "source": [
        "## **Here is the Contingency Table of Type Vs. Sugar content**"
      ],
      "metadata": {
        "id": "SY40fh0rOZji"
      }
    },
    {
      "cell_type": "code",
      "source": [
        "alcoholdf_crosstab = pd.crosstab(alcohol_df['Type'], alcohol_df['Sugar_flag'], margins = 1)\n",
        "print(alcoholdf_crosstab)"
      ],
      "metadata": {
        "colab": {
          "base_uri": "https://localhost:8080/"
        },
        "id": "6pFhF4LfYWSe",
        "outputId": "a75d1bd5-7a1a-4d1a-c32a-084c787277a9"
      },
      "execution_count": 167,
      "outputs": [
        {
          "output_type": "stream",
          "name": "stdout",
          "text": [
            "Sugar_flag  High   Low   All\n",
            "Type                        \n",
            "Red          237   848  1085\n",
            "White       1382   878  2260\n",
            "All         1619  1726  3345\n"
          ]
        }
      ]
    },
    {
      "cell_type": "markdown",
      "source": [
        "## **This is the graph of Type Vs. Sugar Content**"
      ],
      "metadata": {
        "id": "OgYm90I2OlvI"
      }
    },
    {
      "cell_type": "code",
      "source": [
        "barplot = alcoholdf_crosstab.plot.bar(rot=0)"
      ],
      "metadata": {
        "colab": {
          "base_uri": "https://localhost:8080/",
          "height": 454
        },
        "id": "wMdKBFHQYj96",
        "outputId": "871dfce4-be05-4e27-e634-0b8e2d8598cd"
      },
      "execution_count": 168,
      "outputs": [
        {
          "output_type": "display_data",
          "data": {
            "text/plain": [
              "<Figure size 640x480 with 1 Axes>"
            ],
            "image/png": "[encoded data removed]"
          },
          "metadata": {}
        }
      ]
    },
    {
      "cell_type": "markdown",
      "source": [
        "## ***Probability of Red and White***"
      ],
      "metadata": {
        "id": "uLquQHhQ14nU"
      }
    },
    {
      "cell_type": "markdown",
      "source": [
        "## From the crosstabs, I can see that the total amounts of red, white, and total overall. So to get probabilities of Red and White, I just have to divide each total by the total overall."
      ],
      "metadata": {
        "id": "zqI-nshN2PWo"
      }
    },
    {
      "cell_type": "markdown",
      "source": [
        "## **P(Red) = (1085 / 3345) = 32.4%**\n"
      ],
      "metadata": {
        "id": "G8gEdzUV2gZU"
      }
    },
    {
      "cell_type": "markdown",
      "source": [
        "## **P(White) = (2260 / 3345) or 100 - P(Red)**\n",
        "## **P(White) = 67.6%**"
      ],
      "metadata": {
        "id": "pi81Suns2-ar"
      }
    },
    {
      "cell_type": "markdown",
      "source": [
        "## ***Probability of High and Low Alcohol Content***"
      ],
      "metadata": {
        "id": "7TaSv8qF3ZJE"
      }
    },
    {
      "cell_type": "markdown",
      "source": [
        "## Simliar to the probailities of Red and White, we can do the same calculations to find High and Low Alcohol Content"
      ],
      "metadata": {
        "id": "UJj1JhnD4t87"
      }
    },
    {
      "cell_type": "markdown",
      "source": [
        "## **P(High Alcohol) = (1661 / 3345) = 49.7%**"
      ],
      "metadata": {
        "id": "T6RwvF1V456R"
      }
    },
    {
      "cell_type": "markdown",
      "source": [
        "## **P(Low Alcohol) = (1684 / 3345) or 100 - P(High Alcohol)**\n",
        "## **P(Low Alcohol) = 50.3%**"
      ],
      "metadata": {
        "id": "OGhCCd-_5ohw"
      }
    },
    {
      "cell_type": "markdown",
      "source": [
        "## ***Probability of High and Low Sugar Content***"
      ],
      "metadata": {
        "id": "YLom0ngg56uJ"
      }
    },
    {
      "cell_type": "markdown",
      "source": [
        "## Again, I will do a calculation similar to finding Probability of Red and White"
      ],
      "metadata": {
        "id": "4GbW5aXV6wUZ"
      }
    },
    {
      "cell_type": "markdown",
      "source": [
        "## **P(High Sugar) = (1619 / 3345) = 48.4%**"
      ],
      "metadata": {
        "id": "9e83LhRh7NA6"
      }
    },
    {
      "cell_type": "markdown",
      "source": [
        "## **P(Low Sugar) = (1726 / 3345) or 100 - P(High Sugar)**\n",
        "## **P(Low Sugar) = 51.6%**"
      ],
      "metadata": {
        "id": "nkVmPt157YmF"
      }
    },
    {
      "cell_type": "markdown",
      "source": [
        "# ***Conditional Probabilitites of Alcohol_flag and Type***"
      ],
      "metadata": {
        "id": "MfrTTSKt9j2X"
      }
    },
    {
      "cell_type": "markdown",
      "source": [
        "# **p(Alcohol_flag = High ∣ Type = Red)**"
      ],
      "metadata": {
        "id": "ZM6d-ez6FIoG"
      }
    },
    {
      "cell_type": "markdown",
      "source": [
        "## **p(Alcohol_flag = High ∣ Type = Red) = p(Type = Red And Alcohol_flag = High) / p(Type = Red)**\n",
        "## **p(Alcohol_flag = High ∣ Type = Red) = p(Type = Red * Alcohol_flag = High) * p(Alcohol_flag = High) / p(Type = Red)**\n",
        "## **p(Alcohol_flag = High ∣ Type = Red) = (32.4% * 49.7%) * (49.7%) / (32.4%)**\n",
        "## **p(Alcohol_flag = High ∣ Type = Red) = 24.7%**"
      ],
      "metadata": {
        "id": "GJyhFw9i9y6G"
      }
    },
    {
      "cell_type": "markdown",
      "source": [
        "# **p(Alcohol_flag = Low ∣ Type = Red)**"
      ],
      "metadata": {
        "id": "UB5O1IPnFQJu"
      }
    },
    {
      "cell_type": "markdown",
      "source": [
        "## **p(Alcohol_flag = Low ∣ Type = Red) = p(Alcohol_flag = Low And Type = Red) * p(Type = Red) / p(Type = Red)**\n",
        "## **p(Alcohol_flag = Low ∣ Type = Red) = p(Type = Red * Alcohol_flag = Low) * p(Alcohol_flag = Low) / p(Type = Red)**\n",
        "## **p(Alcohol_flag = Low ∣ Type = Red) = (32.4% * 50.3%) * (50.3%) / (32.4%)**\n",
        "## **p(Alcohol_flag = Low ∣ Type = Red) = 25.3%**"
      ],
      "metadata": {
        "id": "ss39keWuFT12"
      }
    },
    {
      "cell_type": "markdown",
      "source": [
        "# ***Conditional probabilities of Sugar_flag and Type***"
      ],
      "metadata": {
        "id": "aBHtbRmRrvX3"
      }
    },
    {
      "cell_type": "markdown",
      "source": [
        "# **p(Sugar_flag = High ∣ Type = Red)**"
      ],
      "metadata": {
        "id": "ESpwINR2s4r9"
      }
    },
    {
      "cell_type": "markdown",
      "source": [
        "## **p(Sugar_flag = High ∣ Type = Red) = p(Sugar_flag = High And Type = Red) / p(Type = Red)**\n",
        "## **p(Sugar_flag = High ∣ Type = Red) = p(Type = Red * Sugar_flag = High) * p(Sugar_flag = High) / p(Type = Red)**\n",
        "## **p(Sugar_flag = High ∣ Type = Red) = (32.4% * 48.4%) * (48.4%) / (32.4%)**\n",
        "## **p(Sugar_flag = High ∣ Type = Red) = 23.4%**"
      ],
      "metadata": {
        "id": "JoSJX50lr3S3"
      }
    },
    {
      "cell_type": "markdown",
      "source": [
        "# **p(Sugar_flag = Low ∣ Type = Red)**"
      ],
      "metadata": {
        "id": "4emEwToks-UW"
      }
    },
    {
      "cell_type": "markdown",
      "source": [
        "## **p(Sugar_flag = Low ∣ Type = Red) = p(Sugar_flag = Low And Type = Red) / p(Type = Red)**\n",
        "## **p(Sugar_flag = Low ∣ Type = Red) = p(Type = Red * Sugar_flag = Low) * p(Sugar_flag = Low) / p(Type = Red)**\n",
        "## **p(Sugar_flag = Low ∣ Type = Red) = (32.4% * 51.6%) * (51.6%)/ (32.4%)**\n",
        "## **p(Sugar_flag = Low ∣ Type = Red) = 26.6%**"
      ],
      "metadata": {
        "id": "EJ-8ppTJtAYr"
      }
    },
    {
      "cell_type": "markdown",
      "source": [
        "## **NB Classifiers**"
      ],
      "metadata": {
        "id": "miOrfSv0mCBS"
      }
    },
    {
      "cell_type": "markdown",
      "source": [
        "## *Train = 80% Vs. Test = 20%*"
      ],
      "metadata": {
        "id": "Gv6Wz2zPO8sU"
      }
    },
    {
      "cell_type": "code",
      "source": [
        "from sklearn.naive_bayes import GaussianNB, MultinomialNB, CategoricalNB, BernoulliNB\n",
        "from sklearn.model_selection import train_test_split\n",
        "\n",
        "NBmodel = GaussianNB()\n",
        "\n",
        "\n",
        "X = encoded_alcoholDF.iloc[:,1:3]\n",
        "y = encoded_alcoholDF.iloc[:,0]\n",
        "\n",
        "X_train, X_test, y_train, y_test = \\\n",
        "    train_test_split(X, y, random_state=42, shuffle=True, test_size=0.20, stratify=y)\n",
        "\n",
        "print(X_train)\n",
        "print(X_test)\n"
      ],
      "metadata": {
        "colab": {
          "base_uri": "https://localhost:8080/"
        },
        "id": "LvSyXtlRmBgn",
        "outputId": "db460879-7a3c-4ca6-cc51-b22fd8ecb34a"
      },
      "execution_count": 169,
      "outputs": [
        {
          "output_type": "stream",
          "name": "stdout",
          "text": [
            "      Alcohol_flag  Sugar_flag\n",
            "2688             0           1\n",
            "1824             1           0\n",
            "2483             0           0\n",
            "935              1           1\n",
            "2017             1           0\n",
            "...            ...         ...\n",
            "2650             0           1\n",
            "2246             1           1\n",
            "3001             0           1\n",
            "11               1           1\n",
            "2854             0           1\n",
            "\n",
            "[2676 rows x 2 columns]\n",
            "      Alcohol_flag  Sugar_flag\n",
            "288              0           1\n",
            "3047             0           1\n",
            "2197             1           1\n",
            "3132             0           0\n",
            "682              1           0\n",
            "...            ...         ...\n",
            "864              0           1\n",
            "2505             0           0\n",
            "232              1           1\n",
            "2467             0           0\n",
            "2634             0           0\n",
            "\n",
            "[669 rows x 2 columns]\n"
          ]
        }
      ]
    },
    {
      "cell_type": "code",
      "source": [
        "import matplotlib.pyplot as plt\n",
        "\n",
        "NBmodel.fit(X_train, y_train)\n",
        "\n",
        "labels = [\"Training\", \"Test\"]\n",
        "scores = [NBmodel.score(X_train, y_train), NBmodel.score(X_test, y_test)]\n",
        "\n",
        "\n",
        "fig = plt.figure()\n",
        "ax = fig.add_axes([0,0,1,1])\n",
        "ax.set_title('Training vs. Test Data')\n",
        "ax.bar(labels, scores, color=\"red\")\n",
        "ax.set_ylim(0, 1)\n",
        "plt.show()\n",
        "\n",
        "\n",
        "\n"
      ],
      "metadata": {
        "colab": {
          "base_uri": "https://localhost:8080/",
          "height": 563
        },
        "id": "A4ok_-Ve4swd",
        "outputId": "13ec8ab2-17f9-467c-e9b7-88d55e298a41"
      },
      "execution_count": 170,
      "outputs": [
        {
          "output_type": "display_data",
          "data": {
            "text/plain": [
              "<Figure size 640x480 with 1 Axes>"
            ],
            "image/png": "[encoded data removed]"
          },
          "metadata": {}
        }
      ]
    },
    {
      "cell_type": "markdown",
      "source": [
        "## *Train = 75% Vs. Test = 25%*"
      ],
      "metadata": {
        "id": "lH5JwgDaIVqE"
      }
    },
    {
      "cell_type": "code",
      "source": [
        "X_train, X_test, y_train, y_test = \\\n",
        "    train_test_split(X, y, random_state=42, shuffle=True, test_size=0.25, stratify=y)\n",
        "\n",
        "print(X_train)\n",
        "print(X_test)\n"
      ],
      "metadata": {
        "colab": {
          "base_uri": "https://localhost:8080/"
        },
        "id": "xFmH-iP8IDrO",
        "outputId": "e5b36911-1e66-4ee8-a2d1-d0fb4e45db71"
      },
      "execution_count": 171,
      "outputs": [
        {
          "output_type": "stream",
          "name": "stdout",
          "text": [
            "      Alcohol_flag  Sugar_flag\n",
            "1184             1           0\n",
            "2433             1           0\n",
            "2765             0           1\n",
            "2217             1           1\n",
            "1555             0           0\n",
            "...            ...         ...\n",
            "2017             1           0\n",
            "3106             0           1\n",
            "2428             1           0\n",
            "11               1           1\n",
            "2343             1           1\n",
            "\n",
            "[2508 rows x 2 columns]\n",
            "      Alcohol_flag  Sugar_flag\n",
            "2253             1           0\n",
            "2797             0           0\n",
            "1005             1           1\n",
            "3264             0           0\n",
            "463              1           1\n",
            "...            ...         ...\n",
            "540              0           0\n",
            "855              0           1\n",
            "1862             1           0\n",
            "1619             1           0\n",
            "1719             1           0\n",
            "\n",
            "[837 rows x 2 columns]\n"
          ]
        }
      ]
    },
    {
      "cell_type": "code",
      "source": [
        "NBmodel.fit(X_train, y_train)\n",
        "\n",
        "labels = [\"Training\", \"Test\"]\n",
        "scores = [NBmodel.score(X_train, y_train), NBmodel.score(X_test, y_test)]\n",
        "\n",
        "\n",
        "fig = plt.figure()\n",
        "ax = fig.add_axes([0,0,1,1])\n",
        "ax.set_title('Training vs. Test Data')\n",
        "ax.bar(labels, scores, color=\"red\")\n",
        "ax.set_ylim(0, 1)\n",
        "plt.show()"
      ],
      "metadata": {
        "colab": {
          "base_uri": "https://localhost:8080/",
          "height": 563
        },
        "id": "oD4FxzcMIPAK",
        "outputId": "6e520a36-ac97-428d-8fb0-96c24801da2f"
      },
      "execution_count": 172,
      "outputs": [
        {
          "output_type": "display_data",
          "data": {
            "text/plain": [
              "<Figure size 640x480 with 1 Axes>"
            ],
            "image/png": "[encoded data removed]"
          },
          "metadata": {}
        }
      ]
    },
    {
      "cell_type": "markdown",
      "source": [
        "## *Train = 70% Vs. Test = 30%*"
      ],
      "metadata": {
        "id": "uTr7nMQMPHio"
      }
    },
    {
      "cell_type": "code",
      "source": [
        "X_train, X_test, y_train, y_test = \\\n",
        "    train_test_split(X, y, random_state=42, shuffle=True, test_size=0.30, stratify=y)\n",
        "\n",
        "print(X_train)\n",
        "print(X_test)"
      ],
      "metadata": {
        "colab": {
          "base_uri": "https://localhost:8080/"
        },
        "id": "Hs282raSIaDz",
        "outputId": "97efb2e7-1758-4916-a072-1ac97dab32e5"
      },
      "execution_count": 173,
      "outputs": [
        {
          "output_type": "stream",
          "name": "stdout",
          "text": [
            "      Alcohol_flag  Sugar_flag\n",
            "1768             1           0\n",
            "1792             1           1\n",
            "413              1           0\n",
            "1610             1           0\n",
            "1671             1           0\n",
            "...            ...         ...\n",
            "522              1           0\n",
            "893              1           0\n",
            "1924             1           1\n",
            "11               1           1\n",
            "1868             1           1\n",
            "\n",
            "[2341 rows x 2 columns]\n",
            "      Alcohol_flag  Sugar_flag\n",
            "1389             0           0\n",
            "1899             1           0\n",
            "162              1           1\n",
            "1889             1           0\n",
            "2982             0           0\n",
            "...            ...         ...\n",
            "941              0           0\n",
            "3223             0           0\n",
            "3219             0           1\n",
            "2221             1           0\n",
            "205              0           0\n",
            "\n",
            "[1004 rows x 2 columns]\n"
          ]
        }
      ]
    },
    {
      "cell_type": "code",
      "source": [
        "NBmodel.fit(X_train, y_train)\n",
        "\n",
        "labels = [\"Training\", \"Test\"]\n",
        "scores = [NBmodel.score(X_train, y_train), NBmodel.score(X_test, y_test)]\n",
        "\n",
        "\n",
        "fig = plt.figure()\n",
        "ax = fig.add_axes([0,0,1,1])\n",
        "ax.set_title('Training vs. Test Data')\n",
        "ax.bar(labels, scores, color=\"red\")\n",
        "ax.set_ylim(0, 1)\n",
        "plt.show()"
      ],
      "metadata": {
        "colab": {
          "base_uri": "https://localhost:8080/",
          "height": 563
        },
        "id": "LKhMHnhQIbY4",
        "outputId": "566df8a4-775e-4f9c-c317-257699c3bccb"
      },
      "execution_count": 174,
      "outputs": [
        {
          "output_type": "display_data",
          "data": {
            "text/plain": [
              "<Figure size 640x480 with 1 Axes>"
            ],
            "image/png": "[encoded data removed]"
          },
          "metadata": {}
        }
      ]
    },
    {
      "cell_type": "markdown",
      "source": [
        "## *Train = 60% Vs. Test = 40%*"
      ],
      "metadata": {
        "id": "QfS04wbPPKSS"
      }
    },
    {
      "cell_type": "code",
      "source": [
        "X_train, X_test, y_train, y_test = \\\n",
        "    train_test_split(X, y, random_state=42, shuffle=True, test_size=0.40, stratify=y)\n",
        "\n",
        "print(X_train)\n",
        "print(X_test)"
      ],
      "metadata": {
        "colab": {
          "base_uri": "https://localhost:8080/"
        },
        "id": "IJPqRjUsIhQn",
        "outputId": "8cdb234a-ab47-4c0f-e8e9-27decbafa79f"
      },
      "execution_count": 175,
      "outputs": [
        {
          "output_type": "stream",
          "name": "stdout",
          "text": [
            "      Alcohol_flag  Sugar_flag\n",
            "3188             0           1\n",
            "1192             1           0\n",
            "1152             1           1\n",
            "1741             1           0\n",
            "1308             1           1\n",
            "...            ...         ...\n",
            "3203             0           1\n",
            "1129             1           1\n",
            "11               1           1\n",
            "2226             1           0\n",
            "2437             0           1\n",
            "\n",
            "[2007 rows x 2 columns]\n",
            "      Alcohol_flag  Sugar_flag\n",
            "1326             0           1\n",
            "520              1           1\n",
            "443              0           1\n",
            "1721             1           1\n",
            "2826             0           1\n",
            "...            ...         ...\n",
            "744              1           0\n",
            "3184             0           1\n",
            "1430             0           1\n",
            "2986             0           0\n",
            "1062             1           1\n",
            "\n",
            "[1338 rows x 2 columns]\n"
          ]
        }
      ]
    },
    {
      "cell_type": "code",
      "source": [
        "NBmodel.fit(X_train, y_train)\n",
        "\n",
        "labels = [\"Training\", \"Test\"]\n",
        "scores = [NBmodel.score(X_train, y_train), NBmodel.score(X_test, y_test)]\n",
        "\n",
        "\n",
        "fig = plt.figure()\n",
        "ax = fig.add_axes([0,0,1,1])\n",
        "ax.set_title('Training vs. Test Data')\n",
        "ax.bar(labels, scores, color=\"red\")\n",
        "ax.set_ylim(0, 1)\n",
        "plt.show()"
      ],
      "metadata": {
        "colab": {
          "base_uri": "https://localhost:8080/",
          "height": 563
        },
        "id": "04K2i6R5IhGe",
        "outputId": "aef0b260-ddf6-42a2-a277-7054dea17e5d"
      },
      "execution_count": 176,
      "outputs": [
        {
          "output_type": "display_data",
          "data": {
            "text/plain": [
              "<Figure size 640x480 with 1 Axes>"
            ],
            "image/png": "[encoded data removed]"
          },
          "metadata": {}
        }
      ]
    },
    {
      "cell_type": "markdown",
      "source": [
        "## *Train = 50% Vs. Test = 50%*"
      ],
      "metadata": {
        "id": "f-ocEsR3PMgp"
      }
    },
    {
      "cell_type": "code",
      "source": [
        "X_train, X_test, y_train, y_test = \\\n",
        "    train_test_split(X, y, random_state=42, shuffle=True, test_size=0.50, stratify=y)\n",
        "\n",
        "print(X_train)\n",
        "print(X_test)"
      ],
      "metadata": {
        "colab": {
          "base_uri": "https://localhost:8080/"
        },
        "id": "juaGcdzTIo1f",
        "outputId": "7ba1edcc-dc56-487a-abaf-8816cb5a7d5a"
      },
      "execution_count": 177,
      "outputs": [
        {
          "output_type": "stream",
          "name": "stdout",
          "text": [
            "      Alcohol_flag  Sugar_flag\n",
            "1097             1           1\n",
            "3003             0           0\n",
            "1341             0           0\n",
            "1685             1           0\n",
            "708              0           0\n",
            "...            ...         ...\n",
            "1803             1           1\n",
            "3297             0           0\n",
            "1129             1           1\n",
            "580              0           1\n",
            "770              1           1\n",
            "\n",
            "[1672 rows x 2 columns]\n",
            "      Alcohol_flag  Sugar_flag\n",
            "348              0           1\n",
            "1435             0           0\n",
            "1475             0           0\n",
            "3212             0           0\n",
            "1269             1           1\n",
            "...            ...         ...\n",
            "2899             0           1\n",
            "2773             0           1\n",
            "2584             0           0\n",
            "1219             1           1\n",
            "621              0           0\n",
            "\n",
            "[1673 rows x 2 columns]\n"
          ]
        }
      ]
    },
    {
      "cell_type": "code",
      "source": [
        "NBmodel.fit(X_train, y_train)\n",
        "\n",
        "labels = [\"Training\", \"Test\"]\n",
        "scores = [NBmodel.score(X_train, y_train), NBmodel.score(X_test, y_test)]\n",
        "\n",
        "\n",
        "fig = plt.figure()\n",
        "ax = fig.add_axes([0,0,1,1])\n",
        "ax.set_title('Training vs. Test Data')\n",
        "ax.bar(labels, scores, color=\"red\")\n",
        "ax.set_ylim(0, 1)\n",
        "plt.show()"
      ],
      "metadata": {
        "colab": {
          "base_uri": "https://localhost:8080/",
          "height": 563
        },
        "id": "MrXOiMIYIpoN",
        "outputId": "f3ab1de0-c3cb-405e-f102-54b4904b7332"
      },
      "execution_count": 178,
      "outputs": [
        {
          "output_type": "display_data",
          "data": {
            "text/plain": [
              "<Figure size 640x480 with 1 Axes>"
            ],
            "image/png": "[encoded data removed]"
          },
          "metadata": {}
        }
      ]
    },
    {
      "cell_type": "markdown",
      "source": [
        "## ***Conclusions***"
      ],
      "metadata": {
        "id": "Ae_cT2cxPPXp"
      }
    },
    {
      "cell_type": "markdown",
      "source": [
        "## **After making the contingency tables, I conducted several probabilities**"
      ],
      "metadata": {
        "id": "pU-sERkOPR8x"
      }
    },
    {
      "cell_type": "markdown",
      "source": [
        "## **1. p(White) = 67.6%**\n",
        "## **2. p(Red) = 32.4%**"
      ],
      "metadata": {
        "id": "6fuzDZ2XPeY4"
      }
    },
    {
      "cell_type": "markdown",
      "source": [
        "## **3. p(High Alcohol) = 49.7%**\n",
        "## **4. p(Low Alcohol) = 50.3%**\n"
      ],
      "metadata": {
        "id": "GGNMd_dSP10c"
      }
    },
    {
      "cell_type": "markdown",
      "source": [
        "## **5. p(High Sugar) = 48.4%**\n",
        "## **6. p(Low Sugar) = 51.6%**\n"
      ],
      "metadata": {
        "id": "szHKSWGyQEtt"
      }
    },
    {
      "cell_type": "markdown",
      "source": [
        "## **Then, I conducted several conditional Probabilities**"
      ],
      "metadata": {
        "id": "505il_bOQNQM"
      }
    },
    {
      "cell_type": "markdown",
      "source": [
        "## **1. p(High Alcohol ∣ Red) = 24.7%**\n",
        "## **2. p(Low Alcohol ∣ Red) = 25.3%**"
      ],
      "metadata": {
        "id": "cgwrtu_DQVf7"
      }
    },
    {
      "cell_type": "markdown",
      "source": [
        "## **3. p(High Sugar ∣ Red) = 23.4%**\n",
        "## **4. p(Low Sugar ∣ Red) = 26.6%**"
      ],
      "metadata": {
        "id": "rWMBM2FLQplL"
      }
    },
    {
      "cell_type": "markdown",
      "source": [
        "## **Lastly, although it is very slightly, I see that as I increase the test size of the NB model, the graph shows the tests getting slowly closer to the training.**"
      ],
      "metadata": {
        "id": "XXsj8kzDTp7h"
      }
    }
  ]
}